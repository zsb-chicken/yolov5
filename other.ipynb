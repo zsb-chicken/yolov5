{
 "cells": [
  {
   "cell_type": "code",
   "execution_count": 2,
   "metadata": {},
   "outputs": [],
   "source": [
    "import redis"
   ]
  },
  {
   "cell_type": "code",
   "execution_count": 3,
   "metadata": {},
   "outputs": [],
   "source": [
    "r = redis.Redis(host='localhost', port=6379, db=0)"
   ]
  },
  {
   "cell_type": "code",
   "execution_count": 13,
   "metadata": {},
   "outputs": [
    {
     "data": {
      "text/plain": [
       "True"
      ]
     },
     "execution_count": 13,
     "metadata": {},
     "output_type": "execute_result"
    }
   ],
   "source": [
    "r.set('hoge', 'moge')"
   ]
  },
  {
   "cell_type": "code",
   "execution_count": 14,
   "metadata": {},
   "outputs": [
    {
     "data": {
      "text/plain": [
       "b'moge'"
      ]
     },
     "execution_count": 14,
     "metadata": {},
     "output_type": "execute_result"
    }
   ],
   "source": [
    "r.get('hoge')"
   ]
  },
  {
   "cell_type": "code",
   "execution_count": 15,
   "metadata": {},
   "outputs": [
    {
     "name": "stdout",
     "output_type": "stream",
     "text": [
      "moge\n"
     ]
    }
   ],
   "source": [
    "hoge = r.get('hoge')\n",
    "print(hoge.decode())"
   ]
  },
  {
   "cell_type": "code",
   "execution_count": 11,
   "metadata": {},
   "outputs": [],
   "source": [
    "# result = r.delete('hoge')"
   ]
  },
  {
   "cell_type": "markdown",
   "metadata": {},
   "source": [
    "#### Pythonでタイムスタンプを生成する。"
   ]
  },
  {
   "cell_type": "code",
   "execution_count": 5,
   "metadata": {},
   "outputs": [],
   "source": [
    "import datetime"
   ]
  },
  {
   "cell_type": "code",
   "execution_count": 24,
   "metadata": {},
   "outputs": [
    {
     "name": "stdout",
     "output_type": "stream",
     "text": [
      "2022-01-29 23:33:08.500616\n"
     ]
    }
   ],
   "source": [
    "dt_now = datetime.datetime.now()\n",
    "print(dt_now)"
   ]
  },
  {
   "cell_type": "code",
   "execution_count": 11,
   "metadata": {},
   "outputs": [],
   "source": [
    "from redis_command import Redis_Data_Set"
   ]
  },
  {
   "cell_type": "code",
   "execution_count": 1,
   "metadata": {},
   "outputs": [],
   "source": [
    "import redis"
   ]
  },
  {
   "cell_type": "code",
   "execution_count": 11,
   "metadata": {},
   "outputs": [],
   "source": [
    "r = redis.Redis(host='localhost', port=6379,  decode_responses = True, db=1) "
   ]
  },
  {
   "cell_type": "code",
   "execution_count": 41,
   "metadata": {},
   "outputs": [],
   "source": [
    "class Redis_Data_Set:\n",
    "    r = redis.Redis(host='localhost', port=6379,  decode_responses = True, db=0) \n",
    "\n",
    "    def redis_data_set(self, detect_values):\n",
    "        #r.set('hoge', 'moge')\n",
    "        today =  datetime.datetime.now()\n",
    "        keys = today.strftime('%Y-%m-%d %H:%M:%S.%f')\n",
    "        print(keys)\n",
    "\n",
    "        values = detect_values\n",
    "        print(values)\n",
    "                \n",
    "        self.r.set(keys, values)"
   ]
  },
  {
   "cell_type": "code",
   "execution_count": 42,
   "metadata": {},
   "outputs": [
    {
     "name": "stdout",
     "output_type": "stream",
     "text": [
      "2022-01-30 00:24:09.549079\n",
      "aiueo\n"
     ]
    }
   ],
   "source": [
    "r_d_s = Redis_Data_Set()\n",
    "r_d_s.redis_data_set(\"aiueo\")"
   ]
  },
  {
   "cell_type": "code",
   "execution_count": 34,
   "metadata": {},
   "outputs": [
    {
     "data": {
      "text/plain": [
       "'2022-01-30 00:20:22.503167'"
      ]
     },
     "execution_count": 34,
     "metadata": {},
     "output_type": "execute_result"
    }
   ],
   "source": [
    "a.strftime('%Y-%m-%d %H:%M:%S.%f')"
   ]
  },
  {
   "cell_type": "code",
   "execution_count": 26,
   "metadata": {},
   "outputs": [],
   "source": []
  },
  {
   "cell_type": "code",
   "execution_count": null,
   "metadata": {},
   "outputs": [],
   "source": [
    "redis_stream_data_read"
   ]
  },
  {
   "cell_type": "markdown",
   "metadata": {},
   "source": [
    "# Redis Streamを試す "
   ]
  },
  {
   "cell_type": "code",
   "execution_count": 1,
   "metadata": {},
   "outputs": [],
   "source": [
    "import redis"
   ]
  },
  {
   "cell_type": "code",
   "execution_count": 2,
   "metadata": {},
   "outputs": [],
   "source": [
    "# ターミナルを開いて\n",
    "# redis-server\n",
    "# でredisを起動しておく"
   ]
  },
  {
   "cell_type": "code",
   "execution_count": 3,
   "metadata": {},
   "outputs": [],
   "source": [
    "r = redis.Redis(host=\"localhost\",port=6379, db=0, decode_responses=True)"
   ]
  },
  {
   "cell_type": "code",
   "execution_count": 11,
   "metadata": {},
   "outputs": [],
   "source": [
    "import redis\n",
    "import datetime\n",
    "from collections import deque\n",
    "\n",
    "\n",
    "class Redis_Command:\n",
    "    r = redis.Redis(host='localhost', port=6379, decode_responses = True, db=0) \n",
    "\n",
    "    def __init__(self) -> None:\n",
    "        \"\"\"\n",
    "        streamkeyをタイムスタンプにして、毎回動作のたびにストリームを分けて動作するようにする\n",
    "        \"\"\"\n",
    "        today =  datetime.datetime.now()\n",
    "        self.streamkey = today.strftime('%Y-%m-%d-%H:%M:%S')\n",
    "        #redis streamのstreamIDとするキーとしてcommonkeyを定義\n",
    "\n",
    "    def commonkey_set(self):\n",
    "        self.r.set(\"commonkey\",self.streamkey)\n",
    "        return self.r.get(\"commonkey\")\n",
    "\n",
    "    def commonkey_get(self):\n",
    "        self.commonkey = self.r.get(\"commonkey\")\n",
    "        return self.commonkey\n",
    "\n",
    "    def redis_data_set(self, detect_values):\n",
    "        #r.set('hoge', 'moge')\n",
    "        today =  datetime.datetime.now()\n",
    "        keys = today.strftime('%Y-%m-%d %H:%M:%S.%f')\n",
    "        values = detect_values\n",
    "        self.r.set(keys, values)\n",
    "\n",
    "    def redis_stream_data_set(self, dict):\n",
    "        self.r.xadd(self.commonkey_get(),dict,\"*\")\n",
    "        print(\"def_redis_stream_data_set...\",dict)\n"
   ]
  },
  {
   "cell_type": "code",
   "execution_count": 13,
   "metadata": {},
   "outputs": [],
   "source": [
    "from collections import deque\n",
    "from redis_command import Redis_Command\n",
    "import time\n",
    "\n",
    "rds = Redis_Command()\n",
    "\n",
    "class Interpreter:    \n",
    "    def __init__(self,fieldkey) -> None:\n",
    "        self.special_deque = deque(maxlen=8)\n",
    "        self.streamkey = rds.commonkey_get()\n",
    "        print(rds.commonkey_get())\n",
    "        self.fieldkey = fieldkey\n",
    "\n",
    "    # def special_itprt(names):\n",
    "    #     fields_key = \"special\"\n",
    "    #     fields = rds.redis_stream_data_readgroup(names,streamkey)\n",
    "    #     special_num = fields[1][fields_key]\n",
    "    #     return  print(special_num)\n",
    "\n",
    "    def redis_read(self):\n",
    "        fields = rds.r.xread({self.streamkey:0},block=0,count=1)\n",
    "        return fields\n",
    "\n",
    "    def queue(self):\n",
    "        b = self.redis_read()[0][1][0][1][self.fieldkey]\n",
    "        self.special_deque.append(int(b))\n",
    "        return self.special_deque\n",
    "\n",
    "\n"
   ]
  },
  {
   "cell_type": "code",
   "execution_count": 18,
   "metadata": {},
   "outputs": [
    {
     "name": "stdout",
     "output_type": "stream",
     "text": [
      "2022-02-17-00:16:38\n"
     ]
    }
   ],
   "source": [
    "itprt = Interpreter(\"special\")"
   ]
  },
  {
   "cell_type": "code",
   "execution_count": 24,
   "metadata": {},
   "outputs": [
    {
     "data": {
      "text/plain": [
       "[['2022-02-17-00:07:35', [('16450240000000-0', {'foo': 'bar'})]]]"
      ]
     },
     "execution_count": 24,
     "metadata": {},
     "output_type": "execute_result"
    }
   ],
   "source": [
    "rds.r.xread({\"2022-02-17-00:07:35\":\"$\"},block=0,count=1)\n"
   ]
  },
  {
   "cell_type": "code",
   "execution_count": null,
   "metadata": {},
   "outputs": [],
   "source": [
    "rds.r.xread({},count=1,)"
   ]
  },
  {
   "cell_type": "code",
   "execution_count": null,
   "metadata": {},
   "outputs": [],
   "source": [
    "r.xgroup_create(name=\"2022-02-13-21:00:52\",groupname=\"specials\")"
   ]
  },
  {
   "cell_type": "code",
   "execution_count": 6,
   "metadata": {},
   "outputs": [
    {
     "data": {
      "text/plain": [
       "0"
      ]
     },
     "execution_count": 6,
     "metadata": {},
     "output_type": "execute_result"
    }
   ],
   "source": [
    "r.xgroup_createconsumer(name=\"2022-02-13-21:00:52\",groupname=\"specials\",consumername=\"specials-1\")"
   ]
  },
  {
   "cell_type": "code",
   "execution_count": 19,
   "metadata": {},
   "outputs": [
    {
     "data": {
      "text/plain": [
       "[['2022-02-13-21:00:52', []]]"
      ]
     },
     "execution_count": 19,
     "metadata": {},
     "output_type": "execute_result"
    }
   ],
   "source": [
    "r.xreadgroup(groupname=\"specials\",consumername=\"specials-1\",streams={\"2022-02-13-21:00:52\":\"1644753887571-0\"})"
   ]
  },
  {
   "cell_type": "code",
   "execution_count": 18,
   "metadata": {},
   "outputs": [
    {
     "data": {
      "text/plain": [
       "'1644761970236-0'"
      ]
     },
     "execution_count": 18,
     "metadata": {},
     "output_type": "execute_result"
    }
   ],
   "source": [
    "r.xadd(name=\"2022-02-13-21:00:52\",fields={\"special\":1})"
   ]
  },
  {
   "cell_type": "code",
   "execution_count": 25,
   "metadata": {},
   "outputs": [
    {
     "data": {
      "text/plain": [
       "[['2022-02-13-21:00:52', []]]"
      ]
     },
     "execution_count": 25,
     "metadata": {},
     "output_type": "execute_result"
    }
   ],
   "source": [
    "r.xreadgroup(groupname=\"specials\",consumername=\"specials-1\",streams={\"2022-02-13-21:00:52\":0-0})"
   ]
  },
  {
   "cell_type": "code",
   "execution_count": 33,
   "metadata": {},
   "outputs": [
    {
     "data": {
      "text/plain": [
       "[['2022-02-13-21:00:52', [('1644753657003-0', {'special': '1'})]]]"
      ]
     },
     "execution_count": 33,
     "metadata": {},
     "output_type": "execute_result"
    }
   ],
   "source": [
    "r.xread({\"2022-02-13-21:00:52\":0},block=0,count=1)"
   ]
  },
  {
   "cell_type": "code",
   "execution_count": 32,
   "metadata": {},
   "outputs": [],
   "source": [
    "special_d = deque()"
   ]
  },
  {
   "cell_type": "code",
   "execution_count": 35,
   "metadata": {},
   "outputs": [],
   "source": [
    "fields = r.xread({\"2022-02-13-21:00:52\":0},block=0,count=1)"
   ]
  },
  {
   "cell_type": "code",
   "execution_count": 37,
   "metadata": {},
   "outputs": [
    {
     "name": "stdout",
     "output_type": "stream",
     "text": [
      "deque([[['2022-02-13-21:00:52', [('1644753657003-0', {'special': '1'})]]], [['2022-02-13-21:00:52', [('1644753657003-0', {'special': '1'})]]]])\n"
     ]
    }
   ],
   "source": [
    "special_d.append(fields)\n",
    "print(special_d)"
   ]
  },
  {
   "cell_type": "markdown",
   "metadata": {},
   "source": [
    "# Dequeを試す"
   ]
  },
  {
   "cell_type": "code",
   "execution_count": 39,
   "metadata": {},
   "outputs": [],
   "source": [
    "from collections import deque"
   ]
  },
  {
   "cell_type": "code",
   "execution_count": 40,
   "metadata": {},
   "outputs": [],
   "source": [
    "d = deque()"
   ]
  },
  {
   "cell_type": "code",
   "execution_count": 41,
   "metadata": {},
   "outputs": [
    {
     "name": "stdout",
     "output_type": "stream",
     "text": [
      "deque([])\n"
     ]
    }
   ],
   "source": [
    "print(d)"
   ]
  },
  {
   "cell_type": "code",
   "execution_count": 42,
   "metadata": {},
   "outputs": [
    {
     "name": "stdout",
     "output_type": "stream",
     "text": [
      "<class 'collections.deque'>\n"
     ]
    }
   ],
   "source": [
    "print(type(d))"
   ]
  },
  {
   "cell_type": "code",
   "execution_count": 44,
   "metadata": {},
   "outputs": [
    {
     "name": "stdout",
     "output_type": "stream",
     "text": [
      "deque(['m', 'n', 2])\n"
     ]
    }
   ],
   "source": [
    "d = deque([\"m\",\"n\",2]) \n",
    "print(d)"
   ]
  },
  {
   "cell_type": "code",
   "execution_count": 46,
   "metadata": {},
   "outputs": [
    {
     "name": "stdout",
     "output_type": "stream",
     "text": [
      "deque(['m', 'n', 2, 2, 2])\n"
     ]
    }
   ],
   "source": [
    "d.append(2)\n",
    "print(d)"
   ]
  },
  {
   "cell_type": "code",
   "execution_count": 48,
   "metadata": {},
   "outputs": [
    {
     "data": {
      "text/plain": [
       "5"
      ]
     },
     "execution_count": 48,
     "metadata": {},
     "output_type": "execute_result"
    }
   ],
   "source": [
    "c = deque([1,2,3,4,5])\n",
    "max(c)"
   ]
  },
  {
   "cell_type": "code",
   "execution_count": 436,
   "metadata": {},
   "outputs": [
    {
     "name": "stdout",
     "output_type": "stream",
     "text": [
      "o\n"
     ]
    }
   ],
   "source": [
    "print(d[2])"
   ]
  },
  {
   "cell_type": "code",
   "execution_count": 10,
   "metadata": {},
   "outputs": [
    {
     "name": "stdout",
     "output_type": "stream",
     "text": [
      "deque(['l', 'm', 'n', 'o', 'o'])\n"
     ]
    }
   ],
   "source": [
    "d.appendleft(\"l\")\n",
    "print(d)"
   ]
  },
  {
   "cell_type": "code",
   "execution_count": 12,
   "metadata": {},
   "outputs": [
    {
     "name": "stdout",
     "output_type": "stream",
     "text": [
      "deque(['l', 'm', 'n', 'o', 'o', 'p', 'q'])\n"
     ]
    }
   ],
   "source": [
    "d.extend([\"p\",\"q\"])\n",
    "print(d)"
   ]
  },
  {
   "cell_type": "code",
   "execution_count": 14,
   "metadata": {},
   "outputs": [
    {
     "name": "stdout",
     "output_type": "stream",
     "text": [
      "deque(['j', 'k', 2, 1, 'l', 'm', 'n', 'o', 'o', 'p', 'q'])\n"
     ]
    }
   ],
   "source": [
    "d.extendleft([\"k\",\"j\"])\n",
    "print(d)"
   ]
  },
  {
   "cell_type": "code",
   "execution_count": 38,
   "metadata": {},
   "outputs": [
    {
     "ename": "NameError",
     "evalue": "name 'd' is not defined",
     "output_type": "error",
     "traceback": [
      "\u001b[0;31m---------------------------------------------------------------------------\u001b[0m",
      "\u001b[0;31mNameError\u001b[0m                                 Traceback (most recent call last)",
      "Input \u001b[0;32mIn [38]\u001b[0m, in \u001b[0;36m<module>\u001b[0;34m\u001b[0m\n\u001b[0;32m----> 1\u001b[0m \u001b[43md\u001b[49m\u001b[38;5;241m.\u001b[39minsert(\u001b[38;5;241m3\u001b[39m,\u001b[38;5;241m2\u001b[39m)\n\u001b[1;32m      2\u001b[0m \u001b[38;5;28mprint\u001b[39m(d)\n",
      "\u001b[0;31mNameError\u001b[0m: name 'd' is not defined"
     ]
    }
   ],
   "source": [
    "d.insert(3,2)\n",
    "print(d)"
   ]
  },
  {
   "cell_type": "code",
   "execution_count": 17,
   "metadata": {},
   "outputs": [
    {
     "name": "stdout",
     "output_type": "stream",
     "text": [
      "deque(['j', 'k', 2, 'XXX', 1, 'l', 'm', 'n', 'o', 'o', 'p', 'YYY', 'YYY', 'q'])\n"
     ]
    }
   ],
   "source": [
    "d.insert(-1,\"YYY\")\n",
    "print(d)"
   ]
  },
  {
   "cell_type": "code",
   "execution_count": 18,
   "metadata": {},
   "outputs": [
    {
     "name": "stdout",
     "output_type": "stream",
     "text": [
      "deque(['XYZ', 'j', 'k', 2, 'XXX', 1, 'l', 'm', 'n', 'o', 'o', 'p', 'YYY', 'YYY', 'q', 'ZZZ'])\n"
     ]
    }
   ],
   "source": [
    "d.insert(100,\"ZZZ\")\n",
    "d.insert(-100,\"XYZ\")\n",
    "print(d)"
   ]
  },
  {
   "cell_type": "code",
   "execution_count": 32,
   "metadata": {},
   "outputs": [],
   "source": [
    "d = deque([\"a\",\"b\",\"c\",\"b\",\"d\"])"
   ]
  },
  {
   "cell_type": "code",
   "execution_count": 33,
   "metadata": {},
   "outputs": [
    {
     "name": "stdout",
     "output_type": "stream",
     "text": [
      "d\n"
     ]
    }
   ],
   "source": [
    "print(d.pop())"
   ]
  },
  {
   "cell_type": "code",
   "execution_count": 34,
   "metadata": {},
   "outputs": [
    {
     "name": "stdout",
     "output_type": "stream",
     "text": [
      "a\n"
     ]
    }
   ],
   "source": [
    "print(d.popleft())"
   ]
  },
  {
   "cell_type": "code",
   "execution_count": 35,
   "metadata": {},
   "outputs": [
    {
     "name": "stdout",
     "output_type": "stream",
     "text": [
      "deque(['b', 'c', 'b'])\n"
     ]
    }
   ],
   "source": [
    "print(d)"
   ]
  },
  {
   "cell_type": "code",
   "execution_count": 36,
   "metadata": {},
   "outputs": [
    {
     "name": "stdout",
     "output_type": "stream",
     "text": [
      "deque(['c', 'b'])\n"
     ]
    }
   ],
   "source": [
    "d.remove(\"b\")\n",
    "print(d)\n",
    "\n",
    "# d.remove('X')\n",
    "# ValueError: deque.remove(x): x not in deque"
   ]
  },
  {
   "cell_type": "code",
   "execution_count": 37,
   "metadata": {},
   "outputs": [
    {
     "name": "stdout",
     "output_type": "stream",
     "text": [
      "deque([])\n"
     ]
    }
   ],
   "source": [
    "d.clear()\n",
    "print(d)"
   ]
  },
  {
   "cell_type": "code",
   "execution_count": 48,
   "metadata": {},
   "outputs": [
    {
     "name": "stdout",
     "output_type": "stream",
     "text": [
      "deque(['e', 'a', 'b', 'c', 'd'])\n"
     ]
    }
   ],
   "source": [
    "d = deque(['a', 'b', 'c', 'd', 'e'])\n",
    "d.rotate()\n",
    "print(d)"
   ]
  },
  {
   "cell_type": "code",
   "execution_count": 53,
   "metadata": {},
   "outputs": [
    {
     "name": "stdout",
     "output_type": "stream",
     "text": [
      "d\n",
      "e\n"
     ]
    }
   ],
   "source": [
    "d = deque(['a', 'b', 'c', 'd', 'e'])\n",
    "print(d[3])\n",
    "print(d[-1])"
   ]
  },
  {
   "cell_type": "code",
   "execution_count": 54,
   "metadata": {},
   "outputs": [
    {
     "name": "stdout",
     "output_type": "stream",
     "text": [
      "deque(['a', 'b', 'X', 'd', 'e'])\n"
     ]
    }
   ],
   "source": [
    "d[2] = \"X\"\n",
    "print(d)"
   ]
  },
  {
   "cell_type": "code",
   "execution_count": 60,
   "metadata": {},
   "outputs": [
    {
     "name": "stdout",
     "output_type": "stream",
     "text": [
      "<itertools.islice object at 0x7f77c887d680>\n",
      "deque(['b', 'X', 'd'])\n"
     ]
    }
   ],
   "source": [
    "import itertools\n",
    "print(itertools.islice(d,1,4))\n",
    "print(deque(itertools.islice(d,1,4)))"
   ]
  },
  {
   "cell_type": "code",
   "execution_count": 61,
   "metadata": {},
   "outputs": [
    {
     "name": "stdout",
     "output_type": "stream",
     "text": [
      "2\n"
     ]
    }
   ],
   "source": [
    "d = deque(['a', 'b', 'c', 'c', 'd'])\n",
    "print(d.index('c'))"
   ]
  },
  {
   "cell_type": "code",
   "execution_count": 70,
   "metadata": {},
   "outputs": [
    {
     "name": "stdout",
     "output_type": "stream",
     "text": [
      "8\n"
     ]
    }
   ],
   "source": [
    "d = deque(['a', 'a', 'b', 'c','a', 'a', 'b', 'c'])\n",
    "print(len(d))"
   ]
  },
  {
   "cell_type": "code",
   "execution_count": 71,
   "metadata": {},
   "outputs": [
    {
     "name": "stdout",
     "output_type": "stream",
     "text": [
      "4\n"
     ]
    }
   ],
   "source": [
    "print(d.count('a'))"
   ]
  },
  {
   "cell_type": "code",
   "execution_count": 75,
   "metadata": {},
   "outputs": [
    {
     "name": "stdout",
     "output_type": "stream",
     "text": [
      "True\n",
      "False\n"
     ]
    }
   ],
   "source": [
    "print(\"b\" in d)\n",
    "print('x' in d)"
   ]
  },
  {
   "cell_type": "code",
   "execution_count": 67,
   "metadata": {},
   "outputs": [
    {
     "name": "stdout",
     "output_type": "stream",
     "text": [
      "28\n"
     ]
    }
   ],
   "source": [
    "d = deque([1,2,3,4,5,6,7])\n",
    "print(sum(d))"
   ]
  },
  {
   "cell_type": "code",
   "execution_count": null,
   "metadata": {},
   "outputs": [],
   "source": []
  },
  {
   "cell_type": "code",
   "execution_count": 76,
   "metadata": {},
   "outputs": [
    {
     "name": "stdout",
     "output_type": "stream",
     "text": [
      "deque(['e', 'd', 'c', 'b', 'a'])\n"
     ]
    }
   ],
   "source": [
    "d = deque(['a', 'b', 'c', 'd', 'e'])\n",
    "d.reverse()\n",
    "print(d)"
   ]
  },
  {
   "cell_type": "code",
   "execution_count": 78,
   "metadata": {},
   "outputs": [
    {
     "name": "stdout",
     "output_type": "stream",
     "text": [
      "deque(['e', 'd', 'c', 'b', 'a'])\n"
     ]
    }
   ],
   "source": [
    "d = deque(['a', 'b', 'c', 'd', 'e'])\n",
    "print(deque(reversed(d)))"
   ]
  },
  {
   "cell_type": "code",
   "execution_count": 79,
   "metadata": {},
   "outputs": [
    {
     "name": "stdout",
     "output_type": "stream",
     "text": [
      "a\n",
      "b\n",
      "c\n"
     ]
    }
   ],
   "source": [
    "d = deque(['a', 'b', 'c'])\n",
    "\n",
    "for v in d:\n",
    "    print(v)"
   ]
  },
  {
   "cell_type": "code",
   "execution_count": 82,
   "metadata": {},
   "outputs": [
    {
     "name": "stdout",
     "output_type": "stream",
     "text": [
      "['a', 'b', 'c']\n",
      "<class 'list'>\n"
     ]
    }
   ],
   "source": [
    "d = deque(['a', 'b', 'c'])\n",
    "l = list(d)\n",
    "print(l)\n",
    "print(type(l))"
   ]
  },
  {
   "cell_type": "markdown",
   "metadata": {},
   "source": [
    "#### maxlenで最大長（最大要素数）を制限"
   ]
  },
  {
   "cell_type": "code",
   "execution_count": 87,
   "metadata": {},
   "outputs": [
    {
     "name": "stdout",
     "output_type": "stream",
     "text": [
      "deque(['l', 'm', 'n'], maxlen=3)\n"
     ]
    }
   ],
   "source": [
    "d = deque(['l', 'm', 'n'], 3)\n",
    "print(d)"
   ]
  },
  {
   "cell_type": "code",
   "execution_count": 88,
   "metadata": {},
   "outputs": [
    {
     "name": "stdout",
     "output_type": "stream",
     "text": [
      "deque(['m', 'n', 'o'], maxlen=3)\n"
     ]
    }
   ],
   "source": [
    "d.append('o')\n",
    "print(d)"
   ]
  },
  {
   "cell_type": "code",
   "execution_count": 89,
   "metadata": {},
   "outputs": [
    {
     "name": "stdout",
     "output_type": "stream",
     "text": [
      "deque(['l', 'm', 'n'], maxlen=3)\n"
     ]
    }
   ],
   "source": [
    "d.appendleft('l')\n",
    "print(d)"
   ]
  },
  {
   "cell_type": "code",
   "execution_count": 90,
   "metadata": {},
   "outputs": [
    {
     "name": "stdout",
     "output_type": "stream",
     "text": [
      "deque(['n', 'o', 'p'], maxlen=3)\n"
     ]
    }
   ],
   "source": [
    "d.extend(['o', 'p'])\n",
    "print(d)"
   ]
  },
  {
   "cell_type": "code",
   "execution_count": 91,
   "metadata": {},
   "outputs": [
    {
     "name": "stdout",
     "output_type": "stream",
     "text": [
      "deque(['l', 'm', 'n'], maxlen=3)\n"
     ]
    }
   ],
   "source": [
    "d.extendleft(['m', 'l'])\n",
    "print(d)"
   ]
  },
  {
   "cell_type": "code",
   "execution_count": null,
   "metadata": {},
   "outputs": [],
   "source": [
    "d.insert(0, 'XXX')\n",
    "#IndexError: deque already at its maximum size"
   ]
  },
  {
   "cell_type": "code",
   "execution_count": 93,
   "metadata": {},
   "outputs": [
    {
     "name": "stdout",
     "output_type": "stream",
     "text": [
      "n\n"
     ]
    }
   ],
   "source": [
    "print(d.pop())"
   ]
  },
  {
   "cell_type": "code",
   "execution_count": 94,
   "metadata": {},
   "outputs": [
    {
     "name": "stdout",
     "output_type": "stream",
     "text": [
      "deque(['l', 'm'], maxlen=3)\n"
     ]
    }
   ],
   "source": [
    "print(d)"
   ]
  },
  {
   "cell_type": "code",
   "execution_count": 95,
   "metadata": {},
   "outputs": [
    {
     "name": "stdout",
     "output_type": "stream",
     "text": [
      "deque(['l', 'XXX', 'm'], maxlen=3)\n"
     ]
    }
   ],
   "source": [
    "d.insert(1, 'XXX')\n",
    "print(d)"
   ]
  },
  {
   "cell_type": "code",
   "execution_count": 96,
   "metadata": {},
   "outputs": [
    {
     "name": "stdout",
     "output_type": "stream",
     "text": [
      "3\n"
     ]
    }
   ],
   "source": [
    "print(d.maxlen)"
   ]
  },
  {
   "cell_type": "code",
   "execution_count": 418,
   "metadata": {},
   "outputs": [],
   "source": [
    "import random\n",
    "import datetime"
   ]
  },
  {
   "cell_type": "code",
   "execution_count": null,
   "metadata": {},
   "outputs": [],
   "source": [
    "today =  datetime.datetime.now()\n",
    "streamkey = today.strftime('%Y-%m-%d-%H:%M:%S')\n",
    "print(streamkey.type())"
   ]
  },
  {
   "cell_type": "code",
   "execution_count": 27,
   "metadata": {},
   "outputs": [
    {
     "name": "stdout",
     "output_type": "stream",
     "text": [
      "2022-02-17-01:04:42_instruct\n"
     ]
    }
   ],
   "source": [
    "today =  datetime.datetime.now()\n",
    "streamkey = today.strftime('%Y-%m-%d-%H:%M:%S'+'_instruct')\n",
    "print(streamkey)"
   ]
  },
  {
   "cell_type": "code",
   "execution_count": null,
   "metadata": {},
   "outputs": [],
   "source": []
  },
  {
   "cell_type": "markdown",
   "metadata": {},
   "source": [
    "# Datetimeを色々試す"
   ]
  },
  {
   "cell_type": "code",
   "execution_count": 1,
   "metadata": {},
   "outputs": [],
   "source": [
    "import datetime"
   ]
  },
  {
   "cell_type": "code",
   "execution_count": 3,
   "metadata": {},
   "outputs": [
    {
     "name": "stdout",
     "output_type": "stream",
     "text": [
      "2022-02-20 20:24:37.122055\n"
     ]
    }
   ],
   "source": [
    "dt_now = datetime.datetime.now()\n",
    "print(dt_now)"
   ]
  },
  {
   "cell_type": "code",
   "execution_count": 4,
   "metadata": {},
   "outputs": [
    {
     "name": "stdout",
     "output_type": "stream",
     "text": [
      "122055\n"
     ]
    }
   ],
   "source": [
    "print(dt_now.microsecond)"
   ]
  },
  {
   "cell_type": "code",
   "execution_count": 8,
   "metadata": {},
   "outputs": [
    {
     "name": "stdout",
     "output_type": "stream",
     "text": [
      "2022-02-20 20:24:37.122055\n",
      "<class 'datetime.datetime'>\n",
      "2022-02-20\n",
      "<class 'datetime.date'>\n"
     ]
    }
   ],
   "source": [
    "print(dt_now)\n",
    "print(type(dt_now))\n",
    "print(dt_now.date())\n",
    "print(type(dt_now.date()))\n"
   ]
  },
  {
   "cell_type": "code",
   "execution_count": 9,
   "metadata": {},
   "outputs": [],
   "source": [
    "dt2 = datetime.datetime.now()"
   ]
  },
  {
   "cell_type": "code",
   "execution_count": 10,
   "metadata": {},
   "outputs": [
    {
     "name": "stdout",
     "output_type": "stream",
     "text": [
      "0:06:20.481234\n"
     ]
    }
   ],
   "source": [
    "dt = dt2 - dt_now\n",
    "print(dt)"
   ]
  },
  {
   "cell_type": "code",
   "execution_count": 13,
   "metadata": {},
   "outputs": [
    {
     "name": "stdout",
     "output_type": "stream",
     "text": [
      "<class 'datetime.timedelta'>\n",
      "0\n",
      "380\n",
      "481234\n",
      "380.481234\n"
     ]
    }
   ],
   "source": [
    "print(type(dt))\n",
    "print(dt.days)\n",
    "print(dt.seconds)\n",
    "print(dt.microseconds)\n",
    "print(dt.total_seconds())"
   ]
  },
  {
   "cell_type": "code",
   "execution_count": 22,
   "metadata": {},
   "outputs": [
    {
     "name": "stdout",
     "output_type": "stream",
     "text": [
      "2022-02-20 20:52:12.155934\n"
     ]
    }
   ],
   "source": [
    "date_str = \"20220220205212155934\"\n",
    "date_dt2 = datetime.datetime.strptime(date_str,'%Y%m%d%H%M%S%f')\n",
    "print(date_dt2)"
   ]
  },
  {
   "cell_type": "code",
   "execution_count": null,
   "metadata": {},
   "outputs": [],
   "source": []
  },
  {
   "cell_type": "markdown",
   "metadata": {},
   "source": [
    "# MongoDB を試す"
   ]
  },
  {
   "cell_type": "code",
   "execution_count": 83,
   "metadata": {},
   "outputs": [],
   "source": [
    "import pymongo"
   ]
  },
  {
   "cell_type": "code",
   "execution_count": 84,
   "metadata": {},
   "outputs": [],
   "source": [
    "from pymongo import MongoClient\n",
    "client = MongoClient()"
   ]
  },
  {
   "cell_type": "code",
   "execution_count": 85,
   "metadata": {},
   "outputs": [],
   "source": [
    "mongo_host = \"localhost\"\n",
    "mongo_port = 27017"
   ]
  },
  {
   "cell_type": "code",
   "execution_count": 3,
   "metadata": {},
   "outputs": [],
   "source": [
    "client = MongoClient(\"localhost\",27017)"
   ]
  },
  {
   "cell_type": "code",
   "execution_count": 7,
   "metadata": {},
   "outputs": [],
   "source": [
    "db = client[\"test-database\"]"
   ]
  },
  {
   "cell_type": "code",
   "execution_count": 8,
   "metadata": {},
   "outputs": [],
   "source": [
    "collection = db[\"test-collection\"]"
   ]
  },
  {
   "cell_type": "code",
   "execution_count": 12,
   "metadata": {},
   "outputs": [],
   "source": [
    "import datetime\n",
    "post = {\"author\":\"Mike\",\n",
    "    \"test\":\"My first blog post!\",\n",
    "    \"tags\":[\"mongodb\",\"python\",\"pymongo\"],\n",
    "    \"date\":datetime.datetime.utcnow()}    "
   ]
  },
  {
   "cell_type": "code",
   "execution_count": 87,
   "metadata": {},
   "outputs": [
    {
     "data": {
      "text/plain": [
       "ObjectId('622340b70c512bd0fd99f85e')"
      ]
     },
     "execution_count": 87,
     "metadata": {},
     "output_type": "execute_result"
    }
   ],
   "source": [
    "posts = collection\n",
    "post_id = posts.insert_one(post).inserted_id\n",
    "post_id"
   ]
  },
  {
   "cell_type": "code",
   "execution_count": 14,
   "metadata": {},
   "outputs": [
    {
     "data": {
      "text/plain": [
       "['posts']"
      ]
     },
     "execution_count": 14,
     "metadata": {},
     "output_type": "execute_result"
    }
   ],
   "source": [
    "db.list_collection_names()"
   ]
  },
  {
   "cell_type": "code",
   "execution_count": 16,
   "metadata": {},
   "outputs": [
    {
     "name": "stdout",
     "output_type": "stream",
     "text": [
      "{'_id': ObjectId('622340b70c512bd0fd99f85e'),\n",
      " 'author': 'Mike',\n",
      " 'date': datetime.datetime(2022, 3, 5, 10, 41, 57, 102000),\n",
      " 'tags': ['mongodb', 'python', 'pymongo'],\n",
      " 'test': 'My first blog post!'}\n"
     ]
    }
   ],
   "source": [
    "import pprint\n",
    "pprint.pprint(posts.find_one())"
   ]
  },
  {
   "cell_type": "code",
   "execution_count": 108,
   "metadata": {},
   "outputs": [
    {
     "name": "stdout",
     "output_type": "stream",
     "text": [
      "{'_id': ObjectId('622465f21e38db5a365af782'),\n",
      " 'one_game_results': '{\"special\":{\"2022030518131893093\":\"special\",\"2022030518131912312\":\"special\",\"2022030518131931865\":\"special\",\"2022030518131952471\":\"special\",\"2022030518131972352\":\"special\",\"2022030518131998865\":\"special\",\"2022030518132088634\":\"special\",\"2022030518132110266\":\"special\",\"2022030518132132792\":\"special\",\"2022030518132158130\":\"special\",\"2022030518132192428\":\"special\",\"2022030518132213280\":\"special\",\"2022030518132233324\":\"special\",\"2022030518132254205\":\"special\",\"2022030518132274865\":\"special\",\"2022030518132294939\":\"special\",\"2022030518132316813\":\"special\",\"2022030518132342001\":\"special\",\"2022030518132364046\":\"special\",\"2022030518132383970\":\"special\",\"2022030518132404018\":\"special\",\"2022030518132423524\":\"special\",\"2022030518132444437\":\"special\",\"2022030518132465035\":\"special\",\"2022030518132485945\":\"special\",\"2022030518132505975\":\"special\",\"2022030518132526946\":\"special\",\"2022030518132547787\":\"special\",\"2022030518132576317\":\"special\",\"2022030518132597759\":\"special\",\"2022030518132617561\":\"special\",\"2022030518132638265\":\"special\",\"2022030518132658184\":\"special\",\"2022030518132678050\":\"special\",\"2022030518132700090\":\"special\",\"2022030518132720309\":\"special\",\"2022030518132741405\":\"special\",\"2022030518132761895\":\"special\",\"2022030518132783337\":\"special\",\"2022030518132806925\":\"special\",\"2022030518132827619\":\"special\",\"2022030518132868161\":\"special\",\"2022030518133246171\":\"special\",\"2022030518133327291\":\"special\",\"2022030518133346673\":\"special\",\"2022030518133366334\":\"special\",\"2022030518133389999\":\"special\",\"2022030518133410976\":\"special\",\"2022030518133430117\":\"special\",\"2022030518133450880\":\"special\",\"2022030518133469144\":\"special\",\"2022030518133488142\":\"special\",\"2022030518133509858\":\"special\",\"2022030518133528549\":\"special\",\"2022030518133549417\":\"special\",\"2022030518133606968\":\"special\",\"2022030518133626118\":\"special\",\"2022030518133646071\":\"special\",\"2022030518133665214\":\"special\",\"2022030518133690828\":\"special\",\"2022030518134066226\":\"special\",\"2022030518134104495\":\"special\",\"2022030518134125627\":\"special\",\"2022030518134145838\":\"special\",\"2022030518134165618\":\"special\",\"2022030518134184223\":\"special\",\"2022030518134202736\":\"special\",\"2022030518134222746\":\"special\",\"2022030518134241817\":\"special\",\"2022030518134261479\":\"special\",\"2022030518134281088\":\"special\",\"2022030518134318556\":\"special\",\"2022030518134356036\":\"special\",\"2022030518134374277\":\"special\",\"2022030518134393696\":\"special\",\"2022030518134411882\":\"special\",\"2022030518134429679\":\"special\",\"2022030518134448758\":\"special\",\"2022030518134466979\":\"special\",\"2022030518134485905\":\"special\",\"2022030518134504533\":\"special\",\"2022030518134523058\":\"special\",\"2022030518134541613\":\"special\",\"2022030518134561102\":\"special\",\"2022030518134587200\":\"special\",\"2022030518134610646\":\"special\",\"2022030518134631828\":\"special\",\"2022030518134652797\":\"special\",\"2022030518134676159\":\"special\",\"2022030518134696200\":\"special\",\"2022030518134716511\":\"special\",\"2022030518134739258\":\"special\",\"2022030518134760298\":\"special\",\"2022030518134780479\":\"special\",\"2022030518134799138\":\"special\",\"2022030518134817888\":\"special\",\"2022030518134836639\":\"special\",\"2022030518134855342\":\"special\",\"2022030518134874225\":\"special\",\"2022030518134892798\":\"special\",\"2022030518134911632\":\"special\",\"2022030518134930693\":\"special\",\"2022030518134948312\":\"special\",\"2022030518134966965\":\"special\",\"2022030518134986638\":\"special\",\"2022030518135005430\":\"special\",\"2022030518135025000\":\"special\",\"2022030518135044197\":\"special\",\"2022030518135062689\":\"special\",\"2022030518135080920\":\"special\",\"2022030518135101069\":\"special\",\"2022030518135121467\":\"special\",\"2022030518135145439\":\"special\",\"2022030518135166041\":\"special\",\"2022030518135185212\":\"special\",\"2022030518135204486\":\"special\",\"2022030518135224491\":\"special\",\"2022030518135243521\":\"special\",\"2022030518135262599\":\"special\",\"2022030518135283110\":\"special\",\"2022030518135302348\":\"special\",\"2022030518135321975\":\"special\",\"2022030518135343397\":\"special\",\"2022030518135366662\":\"special\",\"2022030518135387811\":\"special\",\"2022030518135409139\":\"special\",\"2022030518135430376\":\"special\",\"2022030518135452012\":\"special\",\"2022030518135471427\":\"special\",\"2022030518135489683\":\"special\",\"2022030518135507736\":\"special\",\"2022030518135526829\":\"special\",\"2022030518135545113\":\"special\",\"2022030518135564105\":\"special\",\"2022030518135583009\":\"special\",\"2022030518135601236\":\"special\",\"2022030518135619666\":\"special\",\"2022030518135637772\":\"special\",\"2022030518135656399\":\"special\",\"2022030518135675635\":\"special\",\"2022030518135696568\":\"special\",\"2022030518135717319\":\"special\",\"2022030518135736304\":\"special\",\"2022030518135755606\":\"special\",\"2022030518135775075\":\"special\",\"2022030518135793570\":\"special\",\"2022030518135812751\":\"special\",\"2022030518135831262\":\"special\",\"2022030518135850762\":\"special\",\"2022030518135873819\":\"special\",\"2022030518135894433\":\"special\",\"2022030518135913806\":\"special\",\"2022030518135933387\":\"special\",\"2022030518135952294\":\"special\",\"2022030518135970903\":\"special\",\"2022030518135989043\":\"special\",\"2022030518140008065\":\"special\",\"2022030518140026557\":\"special\",\"2022030518140044806\":\"special\",\"2022030518140073134\":\"special\",\"2022030518140095446\":\"special\",\"2022030518140115403\":\"special\",\"2022030518140134890\":\"special\",\"2022030518140153453\":\"special\",\"2022030518140171473\":\"special\",\"2022030518140191745\":\"special\",\"2022030518140210670\":\"special\",\"2022030518140229869\":\"special\",\"2022030518140248938\":\"special\",\"2022030518140266964\":\"special\",\"2022030518140287228\":\"special\",\"2022030518140305964\":\"special\",\"2022030518140324156\":\"special\",\"2022030518140343018\":\"special\",\"2022030518140361708\":\"special\",\"2022030518140383164\":\"special\",\"2022030518140402267\":\"special\",\"2022030518140421712\":\"special\",\"2022030518140443391\":\"special\",\"2022030518140463693\":\"special\",\"2022030518140482389\":\"special\",\"2022030518140501936\":\"special\",\"2022030518140521481\":\"special\",\"2022030518140540034\":\"special\",\"2022030518140560021\":\"special\",\"2022030518140579545\":\"special\",\"2022030518140598401\":\"special\",\"2022030518140622847\":\"special\",\"2022030518140651719\":\"special\",\"2022030518140675069\":\"special\",\"2022030518140709760\":\"special\",\"2022030518140733888\":\"special\",\"2022030518140755233\":\"special\",\"2022030518140773206\":\"special\",\"2022030518140792462\":\"special\",\"2022030518140812547\":\"special\",\"2022030518140831724\":\"special\",\"2022030518140850035\":\"special\",\"2022030518140868998\":\"special\",\"2022030518140887669\":\"special\",\"2022030518140905745\":\"special\",\"2022030518140923582\":\"special\",\"2022030518140941861\":\"special\",\"2022030518140960769\":\"special\",\"2022030518140979197\":\"special\",\"2022030518140998804\":\"special\",\"2022030518141017199\":\"special\",\"2022030518141036612\":\"special\",\"2022030518141054605\":\"special\",\"2022030518141072696\":\"special\",\"2022030518141092322\":\"special\",\"2022030518141110448\":\"special\",\"2022030518141128667\":\"special\",\"2022030518141148101\":\"special\",\"2022030518141169431\":\"special\",\"2022030518141188624\":\"special\",\"2022030518141206354\":\"special\",\"2022030518141226470\":\"special\",\"2022030518141247993\":\"special\",\"2022030518141268396\":\"special\",\"2022030518141290335\":\"special\",\"2022030518141309433\":\"special\",\"2022030518141328294\":\"special\",\"2022030518141347721\":\"special\",\"2022030518141366593\":\"special\",\"2022030518141385668\":\"special\",\"2022030518141404080\":\"special\",\"2022030518141423382\":\"special\",\"2022030518141441367\":\"special\",\"2022030518141459356\":\"special\",\"2022030518141477392\":\"special\",\"2022030518141496015\":\"special\",\"2022030518141514015\":\"special\",\"2022030518141531970\":\"special\",\"2022030518141549791\":\"special\",\"2022030518141569348\":\"special\",\"2022030518141588127\":\"special\",\"2022030518141606738\":\"special\",\"2022030518141624687\":\"special\",\"2022030518141643597\":\"special\",\"2022030518141661185\":\"special\",\"2022030518141679699\":\"special\",\"2022030518141697763\":\"special\",\"2022030518141716950\":\"special\",\"2022030518141736630\":\"special\",\"2022030518141755952\":\"special\",\"2022030518141774875\":\"special\",\"2022030518141793822\":\"special\",\"2022030518141810919\":\"special\",\"2022030518141828805\":\"special\",\"2022030518141847470\":\"special\",\"2022030518141867433\":\"special\",\"2022030518141885495\":\"special\",\"2022030518141903617\":\"special\",\"2022030518141922181\":\"special\",\"2022030518141942733\":\"special\",\"2022030518141961117\":\"special\",\"2022030518141979497\":\"special\",\"2022030518141997480\":\"special\",\"2022030518142016618\":\"special\",\"2022030518142034918\":\"special\",\"2022030518142053855\":\"special\",\"2022030518142071626\":\"special\",\"2022030518142090832\":\"special\",\"2022030518142108569\":\"special\",\"2022030518142126966\":\"special\",\"2022030518142145403\":\"special\",\"2022030518142174622\":\"special\",\"2022030518142197332\":\"special\",\"2022030518142217849\":\"special\",\"2022030518142235941\":\"special\",\"2022030518142254803\":\"special\",\"2022030518142272997\":\"special\",\"2022030518142291444\":\"special\",\"2022030518142309529\":\"special\",\"2022030518142327891\":\"special\",\"2022030518142346056\":\"special\",\"2022030518142366439\":\"special\",\"2022030518142383743\":\"special\",\"2022030518142402554\":\"special\",\"2022030518142421427\":\"special\",\"2022030518142439163\":\"special\",\"2022030518142457666\":\"special\",\"2022030518142475451\":\"special\",\"2022030518142494137\":\"special\",\"2022030518142512512\":\"special\",\"2022030518142530910\":\"special\",\"2022030518142549901\":\"special\",\"2022030518142569023\":\"special\",\"2022030518142586686\":\"special\",\"2022030518142605660\":\"special\",\"2022030518142624278\":\"special\",\"2022030518142644018\":\"special\",\"2022030518142662888\":\"special\",\"2022030518142680810\":\"special\",\"2022030518142698997\":\"special\",\"2022030518142717879\":\"special\",\"2022030518142735341\":\"special\",\"2022030518142753894\":\"special\",\"2022030518142772661\":\"special\",\"2022030518142792802\":\"special\",\"2022030518142810914\":\"special\",\"2022030518142831514\":\"special\",\"2022030518142851299\":\"special\",\"2022030518142870058\":\"special\",\"2022030518142887207\":\"special\",\"2022030518142905559\":\"special\",\"2022030518142923965\":\"special\",\"2022030518142943773\":\"special\",\"2022030518142962121\":\"special\",\"2022030518142980071\":\"special\",\"2022030518142999037\":\"special\",\"2022030518143019223\":\"special\",\"2022030518143037732\":\"special\",\"2022030518143056075\":\"special\",\"2022030518143075180\":\"special\",\"2022030518143094378\":\"special\",\"2022030518143111968\":\"special\",\"2022030518143131677\":\"special\",\"2022030518143152767\":\"special\",\"2022030518143171978\":\"special\",\"2022030518143190968\":\"special\",\"2022030518143209933\":\"special\",\"2022030518143228505\":\"special\",\"2022030518143246940\":\"special\",\"2022030518143265864\":\"special\",\"2022030518143285657\":\"special\",\"2022030518143303441\":\"special\",\"2022030518143322563\":\"special\",\"2022030518143341309\":\"special\",\"2022030518143360611\":\"special\",\"2022030518143378914\":\"special\",\"2022030518143397853\":\"special\",\"2022030518143417165\":\"special\",\"2022030518143436871\":\"special\",\"2022030518143456466\":\"special\",\"2022030518143478165\":\"special\",\"2022030518143496659\":\"special\",\"2022030518143516729\":\"special\",\"2022030518143536606\":\"special\",\"2022030518143556122\":\"special\",\"2022030518143577823\":\"special\",\"2022030518143596611\":\"special\",\"2022030518143615326\":\"special\",\"2022030518143635495\":\"special\",\"2022030518143657980\":\"special\",\"2022030518143678725\":\"special\",\"2022030518143700894\":\"special\",\"2022030518143721241\":\"special\",\"2022030518143742249\":\"special\",\"2022030518143762287\":\"special\",\"2022030518143781321\":\"special\",\"2022030518143802004\":\"special\",\"2022030518143820497\":\"special\",\"2022030518143843286\":\"special\",\"2022030518143872255\":\"special\",\"2022030518143893455\":\"special\",\"2022030518143911339\":\"special\",\"2022030518143930720\":\"special\",\"2022030518143950879\":\"special\",\"2022030518143970542\":\"special\",\"2022030518143989290\":\"special\",\"2022030518144007997\":\"special\",\"2022030518144027726\":\"special\",\"2022030518144046786\":\"special\",\"2022030518144065232\":\"special\",\"2022030518144086911\":\"special\",\"2022030518144104581\":\"special\",\"2022030518144124182\":\"special\",\"2022030518144142851\":\"special\",\"2022030518144162256\":\"special\",\"2022030518144181748\":\"special\",\"2022030518144199847\":\"special\",\"2022030518144218651\":\"special\",\"2022030518144238604\":\"special\",\"2022030518144256634\":\"special\",\"2022030518144276129\":\"special\",\"2022030518144294909\":\"special\",\"2022030518144312914\":\"special\",\"2022030518144332201\":\"special\",\"2022030518144350961\":\"special\",\"2022030518144370544\":\"special\",\"2022030518144389738\":\"special\",\"2022030518144407235\":\"special\",\"2022030518144426272\":\"special\",\"2022030518144445300\":\"special\",\"2022030518144466093\":\"special\",\"2022030518144485634\":\"special\",\"2022030518144504995\":\"special\",\"2022030518144530130\":\"special\",\"2022030518144549799\":\"special\",\"2022030518144570080\":\"special\",\"2022030518144591653\":\"special\",\"2022030518144614477\":\"special\",\"2022030518144636754\":\"special\",\"2022030518144658339\":\"special\",\"2022030518144677769\":\"special\",\"2022030518144696858\":\"special\",\"2022030518144729098\":\"special\",\"2022030518144764617\":\"special\",\"2022030518144790427\":\"special\",\"2022030518144809404\":\"special\",\"2022030518144828480\":\"special\",\"2022030518144846626\":\"special\",\"2022030518144865159\":\"special\",\"2022030518144883790\":\"special\",\"2022030518144903207\":\"special\",\"2022030518144923480\":\"special\",\"2022030518144940882\":\"special\",\"2022030518144958083\":\"special\",\"2022030518144976618\":\"special\",\"2022030518144996232\":\"special\",\"2022030518145020003\":\"special\",\"2022030518145041102\":\"special\",\"2022030518145060297\":\"special\",\"2022030518145080018\":\"special\",\"2022030518145100539\":\"special\",\"2022030518145122542\":\"special\",\"2022030518145146375\":\"special\",\"2022030518145166222\":\"special\",\"2022030518145189636\":\"special\",\"2022030518145210037\":\"special\",\"2022030518145229000\":\"special\",\"2022030518145249378\":\"special\",\"2022030518145268755\":\"special\",\"2022030518145287068\":\"special\",\"2022030518145307028\":\"special\",\"2022030518145325578\":\"special\",\"2022030518145344179\":\"special\",\"2022030518145362715\":\"special\",\"2022030518145382696\":\"special\",\"2022030518145401699\":\"special\",\"2022030518145419999\":\"special\",\"2022030518145443031\":\"special\",\"2022030518145465140\":\"special\",\"2022030518145485534\":\"special\",\"2022030518145506404\":\"special\",\"2022030518145526325\":\"special\",\"2022030518145545445\":\"special\",\"2022030518145564004\":\"special\",\"2022030518145583643\":\"special\",\"2022030518145604193\":\"special\",\"2022030518145630067\":\"special\",\"2022030518145652201\":\"special\",\"2022030518145677051\":\"special\",\"2022030518145698265\":\"special\",\"2022030518145717421\":\"special\",\"2022030518145736887\":\"special\",\"2022030518145761609\":\"special\",\"2022030518145783769\":\"special\",\"2022030518145804748\":\"special\",\"2022030518145825510\":\"special\",\"2022030518145844809\":\"special\",\"2022030518145864074\":\"special\",\"2022030518145883711\":\"special\",\"2022030518145902218\":\"special\",\"2022030518145920159\":\"special\",\"2022030518145939004\":\"special\",\"2022030518145957039\":\"special\",\"2022030518145976010\":\"special\",\"2022030518150002874\":\"special\",\"2022030518150022404\":\"special\",\"2022030518150043154\":\"special\",\"2022030518150062315\":\"special\",\"2022030518150081627\":\"special\",\"2022030518150101403\":\"special\",\"2022030518150122289\":\"special\",\"2022030518150141514\":\"special\",\"2022030518150165943\":\"special\",\"2022030518150187090\":\"special\",\"2022030518150205648\":\"special\",\"2022030518150224471\":\"special\",\"2022030518150242806\":\"special\",\"2022030518150261696\":\"special\",\"2022030518150284425\":\"special\",\"2022030518150302979\":\"special\",\"2022030518150321918\":\"special\",\"2022030518150341436\":\"special\",\"2022030518150361689\":\"special\",\"2022030518150381959\":\"special\",\"2022030518150400759\":\"special\",\"2022030518150418819\":\"special\",\"2022030518150437608\":\"special\",\"2022030518150456023\":\"special\",\"2022030518150475925\":\"special\",\"2022030518150495001\":\"special\",\"2022030518150513776\":\"special\",\"2022030518150533137\":\"special\",\"2022030518150551774\":\"special\",\"2022030518150570539\":\"special\",\"2022030518150590690\":\"special\",\"2022030518150609987\":\"special\",\"2022030518150629613\":\"special\",\"2022030518150650711\":\"special\",\"2022030518150672033\":\"special\",\"2022030518150692131\":\"special\",\"2022030518150710687\":\"special\",\"2022030518150729265\":\"special\",\"2022030518150748243\":\"special\",\"2022030518150766896\":\"special\",\"2022030518150786402\":\"special\",\"2022030518150803877\":\"special\",\"2022030518150822203\":\"special\",\"2022030518150841900\":\"special\",\"2022030518150860780\":\"special\",\"2022030518150880320\":\"special\",\"2022030518150899276\":\"special\",\"2022030518150917744\":\"special\",\"2022030518150937688\":\"special\",\"2022030518150955351\":\"special\",\"2022030518150973943\":\"special\",\"2022030518150992469\":\"special\",\"2022030518151010280\":\"special\",\"2022030518151028919\":\"special\",\"2022030518151048495\":\"special\",\"2022030518151067180\":\"special\",\"2022030518151088479\":\"special\",\"2022030518151108483\":\"special\",\"2022030518151132322\":\"special\",\"2022030518151154235\":\"special\",\"2022030518151173999\":\"special\",\"2022030518151192750\":\"special\",\"2022030518151211176\":\"special\",\"2022030518151230908\":\"special\",\"2022030518151248470\":\"special\",\"2022030518151267366\":\"special\",\"2022030518151285280\":\"special\",\"2022030518151305713\":\"special\",\"2022030518151334115\":\"special\",\"2022030518151357154\":\"special\",\"2022030518151386365\":\"special\",\"2022030518151408309\":\"special\",\"2022030518151444085\":\"special\",\"2022030518151467772\":\"special\",\"2022030518151490974\":\"special\",\"2022030518151510937\":\"special\",\"2022030518151529588\":\"special\",\"2022030518151548966\":\"special\",\"2022030518151568059\":\"special\",\"2022030518151586772\":\"special\",\"2022030518151608639\":\"special\",\"2022030518151636952\":\"special\",\"2022030518151665969\":\"special\",\"2022030518151686202\":\"special\",\"2022030518151706297\":\"special\",\"2022030518151725588\":\"special\",\"2022030518151743973\":\"special\",\"2022030518151764183\":\"special\",\"2022030518151784420\":\"special\",\"2022030518151805286\":\"special\",\"2022030518151825080\":\"special\",\"2022030518151845925\":\"special\",\"2022030518151865723\":\"special\",\"2022030518151883625\":\"special\",\"2022030518151901200\":\"special\",\"2022030518151918979\":\"special\",\"2022030518151937149\":\"special\",\"2022030518151955543\":\"special\",\"2022030518151975025\":\"special\",\"2022030518151993502\":\"special\",\"2022030518152012583\":\"special\",\"2022030518152030499\":\"special\",\"2022030518152049006\":\"special\",\"2022030518152066999\":\"special\",\"2022030518152083888\":\"special\",\"2022030518152101975\":\"special\",\"2022030518152121453\":\"special\",\"2022030518152139590\":\"special\",\"2022030518152157395\":\"special\",\"2022030518152176901\":\"special\",\"2022030518152195809\":\"special\",\"2022030518152215075\":\"special\",\"2022030518152234720\":\"special\",\"2022030518152255455\":\"special\",\"2022030518152274783\":\"special\",\"2022030518152294032\":\"special\",\"2022030518152311794\":\"special\",\"2022030518152328678\":\"special\",\"2022030518152348498\":\"special\",\"2022030518152365687\":\"special\",\"2022030518152384366\":\"special\",\"2022030518152401301\":\"special\",\"2022030518152419976\":\"special\",\"2022030518152438317\":\"special\",\"2022030518152459575\":\"special\",\"2022030518152479062\":\"special\",\"2022030518152497682\":\"special\",\"2022030518152515099\":\"special\",\"2022030518152533076\":\"special\",\"2022030518152552166\":\"special\",\"2022030518152570350\":\"special\",\"2022030518152587671\":\"special\",\"2022030518152605754\":\"special\",\"2022030518152624191\":\"special\",\"2022030518152642412\":\"special\",\"2022030518152661732\":\"special\",\"2022030518152679904\":\"special\",\"2022030518152698062\":\"special\",\"2022030518152716014\":\"special\",\"2022030518152734509\":\"special\",\"2022030518152752988\":\"special\",\"2022030518152771099\":\"special\",\"2022030518152789184\":\"special\",\"2022030518152808583\":\"special\",\"2022030518152827533\":\"special\",\"2022030518152846698\":\"special\",\"2022030518152865791\":\"special\",\"2022030518152883991\":\"special\",\"2022030518152903906\":\"special\",\"2022030518152922171\":\"special\",\"2022030518152940796\":\"special\",\"2022030518152958898\":\"special\",\"2022030518152977957\":\"special\",\"2022030518152997379\":\"special\",\"2022030518153015799\":\"special\",\"2022030518153034107\":\"special\",\"2022030518153051815\":\"special\",\"2022030518153069980\":\"special\",\"2022030518153088630\":\"special\",\"2022030518153107798\":\"special\",\"2022030518153126120\":\"special\",\"2022030518153143636\":\"special\",\"2022030518153162334\":\"special\",\"2022030518153181614\":\"special\",\"2022030518153199902\":\"special\",\"2022030518153218279\":\"special\",\"2022030518153235304\":\"special\",\"2022030518153258396\":\"special\",\"2022030518153276833\":\"special\",\"2022030518153296357\":\"special\",\"2022030518153313971\":\"special\",\"2022030518153331840\":\"special\",\"2022030518153350274\":\"special\",\"2022030518153368632\":\"special\",\"2022030518153386590\":\"special\",\"2022030518153404480\":\"special\",\"2022030518153423676\":\"special\",\"2022030518153442643\":\"special\",\"2022030518153460957\":\"special\",\"2022030518153478300\":\"special\",\"2022030518153496856\":\"special\",\"2022030518153516025\":\"special\",\"2022030518153535136\":\"special\",\"2022030518153554558\":\"special\",\"2022030518153573550\":\"special\",\"2022030518153592069\":\"special\",\"2022030518153610187\":\"special\",\"2022030518153628051\":\"special\",\"2022030518153646020\":\"special\",\"2022030518153664909\":\"special\",\"2022030518153683026\":\"special\",\"2022030518153702294\":\"special\",\"2022030518153721364\":\"special\",\"2022030518153740344\":\"special\",\"2022030518153758703\":\"special\",\"2022030518153787555\":\"special\",\"2022030518153808923\":\"special\",\"2022030518153830146\":\"special\",\"2022030518153852289\":\"special\",\"2022030518153871433\":\"special\",\"2022030518153891264\":\"special\",\"2022030518153910541\":\"special\",\"2022030518153929325\":\"special\",\"2022030518153948676\":\"special\",\"2022030518153967166\":\"special\",\"2022030518153985498\":\"special\",\"2022030518154004678\":\"special\",\"2022030518154023675\":\"special\",\"2022030518154042760\":\"special\",\"2022030518154062756\":\"special\",\"2022030518154082325\":\"special\",\"2022030518154100434\":\"special\",\"2022030518154119294\":\"special\",\"2022030518154138604\":\"special\",\"2022030518154156988\":\"special\",\"2022030518154175444\":\"special\",\"2022030518154193503\":\"special\",\"2022030518154212516\":\"special\",\"2022030518154230888\":\"special\",\"2022030518154250077\":\"special\",\"2022030518154268915\":\"special\",\"2022030518154288408\":\"special\",\"2022030518154307860\":\"special\",\"2022030518154327818\":\"special\",\"2022030518154347236\":\"special\",\"2022030518154365625\":\"special\",\"2022030518154387312\":\"special\",\"2022030518154405336\":\"special\",\"2022030518154424240\":\"special\",\"2022030518154443071\":\"special\",\"2022030518154462407\":\"special\",\"2022030518154482047\":\"special\",\"2022030518154501156\":\"special\",\"2022030518154519433\":\"special\",\"2022030518154540257\":\"special\",\"2022030518154558670\":\"special\",\"2022030518154578128\":\"special\",\"2022030518154596166\":\"special\",\"2022030518154614544\":\"special\",\"2022030518154634540\":\"special\",\"2022030518154652716\":\"special\",\"2022030518154672838\":\"special\",\"2022030518154692049\":\"special\",\"2022030518154711821\":\"special\",\"2022030518154731927\":\"special\",\"2022030518154751168\":\"special\",\"2022030518154770081\":\"special\",\"2022030518154789694\":\"special\",\"2022030518154807779\":\"special\",\"2022030518154826519\":\"special\",\"2022030518154845631\":\"special\",\"2022030518154865514\":\"special\",\"2022030518154882918\":\"special\",\"2022030518154901311\":\"special\",\"2022030518154920211\":\"special\",\"2022030518154938710\":\"special\",\"2022030518154957808\":\"special\",\"2022030518154976952\":\"special\",\"2022030518154997134\":\"special\",\"2022030518155017641\":\"special\",\"2022030518155037362\":\"special\",\"2022030518155056883\":\"special\",\"2022030518155075396\":\"special\",\"2022030518155094759\":\"special\",\"2022030518155112707\":\"special\",\"2022030518155132769\":\"special\",\"2022030518155152628\":\"special\",\"2022030518155170195\":\"special\",\"2022030518155188988\":\"special\",\"2022030518155208814\":\"special\",\"2022030518155227376\":\"special\",\"2022030518155246767\":\"special\",\"2022030518155266728\":\"special\",\"2022030518155289134\":\"special\",\"2022030518155310097\":\"special\",\"2022030518155329544\":\"special\",\"2022030518155353446\":\"special\",\"2022030518155373575\":\"special\",\"2022030518155393214\":\"special\",\"2022030518155415125\":\"special\",\"2022030518155435094\":\"special\",\"2022030518155457797\":\"special\",\"2022030518155477584\":\"special\",\"2022030518155499859\":\"special\",\"2022030518155520067\":\"special\",\"2022030518155538327\":\"special\",\"2022030518155558970\":\"special\",\"2022030518155576871\":\"special\",\"2022030518155596906\":\"special\",\"2022030518155617322\":\"special\",\"2022030518155638110\":\"special\",\"2022030518155659611\":\"special\",\"2022030518155678720\":\"special\",\"2022030518155698433\":\"special\",\"2022030518155717930\":\"special\",\"2022030518155737144\":\"special\",\"2022030518155755882\":\"special\",\"2022030518155775454\":\"special\",\"2022030518155795509\":\"special\",\"2022030518155815847\":\"special\",\"2022030518155838397\":\"special\",\"2022030518155862459\":\"special\",\"2022030518155884002\":\"special\",\"2022030518155905637\":\"special\",\"2022030518155926879\":\"special\",\"2022030518155947536\":\"special\",\"2022030518155967953\":\"special\",\"2022030518155988673\":\"special\",\"2022030518160009206\":\"special\",\"2022030518160029122\":\"special\",\"2022030518160048924\":\"special\",\"2022030518160071507\":\"special\",\"2022030518160094950\":\"special\",\"2022030518160115713\":\"special\",\"2022030518160137219\":\"special\",\"2022030518160160842\":\"special\",\"2022030518160183397\":\"special\",\"2022030518160202240\":\"special\",\"2022030518160223529\":\"special\",\"2022030518160242726\":\"special\",\"2022030518160262714\":\"special\",\"2022030518160284841\":\"special\",\"2022030518160305942\":\"special\",\"2022030518160326686\":\"special\",\"2022030518160347874\":\"special\",\"2022030518160369675\":\"special\",\"2022030518160391624\":\"special\",\"2022030518160412646\":\"special\",\"2022030518160432216\":\"special\",\"2022030518160458753\":\"special\",\"2022030518160480301\":\"special\",\"2022030518160502520\":\"special\",\"2022030518160521938\":\"special\",\"2022030518160541887\":\"special\",\"2022030518160560203\":\"special\",\"2022030518160579165\":\"special\",\"2022030518160618950\":\"special\",\"2022030518160654932\":\"special\",\"2022030518160679305\":\"special\",\"2022030518160702362\":\"special\",\"2022030518160732286\":\"special\",\"2022030518160754559\":\"special\",\"2022030518160796213\":\"special\",\"2022030518160820779\":\"special\",\"2022030518160843842\":\"special\",\"2022030518160870441\":\"special\",\"2022030518160892370\":\"special\",\"2022030518160914353\":\"special\",\"2022030518160941043\":\"special\",\"2022030518160960243\":\"special\",\"2022030518160979985\":\"special\",\"2022030518160999197\":\"special\",\"2022030518161019936\":\"special\",\"2022030518161038955\":\"special\",\"2022030518161064089\":\"special\",\"2022030518161086424\":\"special\",\"2022030518161112186\":\"special\",\"2022030518161133475\":\"special\",\"2022030518161152436\":\"special\",\"2022030518161172280\":\"special\",\"2022030518161191947\":\"special\",\"2022030518161213943\":\"special\",\"2022030518161234357\":\"special\",\"2022030518161254821\":\"special\",\"2022030518161281471\":\"special\",\"2022030518161304281\":\"special\",\"2022030518161328249\":\"special\",\"2022030518161348698\":\"special\",\"2022030518161369258\":\"special\",\"2022030518161391056\":\"special\",\"2022030518161410155\":\"special\",\"2022030518161428652\":\"special\",\"2022030518161450065\":\"special\",\"2022030518161468556\":\"special\",\"2022030518161487961\":\"special\",\"2022030518161508385\":\"special\",\"2022030518161537343\":\"special\",\"2022030518161559609\":\"special\",\"2022030518161579129\":\"special\",\"2022030518161599220\":\"special\",\"2022030518161619341\":\"special\",\"2022030518161638060\":\"special\",\"2022030518161657685\":\"special\",\"2022030518161678334\":\"special\",\"2022030518161697671\":\"special\",\"2022030518161717195\":\"special\",\"2022030518161736491\":\"special\",\"2022030518161757275\":\"special\",\"2022030518161777538\":\"special\",\"2022030518161797363\":\"special\",\"2022030518161818308\":\"special\",\"2022030518161844169\":\"special\",\"2022030518161868655\":\"special\",\"2022030518161892061\":\"special\",\"2022030518161916195\":\"special\",\"2022030518161939963\":\"special\",\"2022030518161963037\":\"special\",\"2022030518161984816\":\"special\",\"2022030518162007896\":\"special\",\"2022030518162028718\":\"special\",\"2022030518162052127\":\"special\",\"2022030518162072163\":\"special\",\"2022030518162095992\":\"special\",\"2022030518162115485\":\"special\",\"2022030518162133417\":\"special\",\"2022030518162154137\":\"special\",\"2022030518162172866\":\"special\",\"2022030518162192597\":\"special\",\"2022030518162214253\":\"special\",\"2022030518162232718\":\"special\",\"2022030518162252768\":\"special\",\"2022030518162272439\":\"special\",\"2022030518162292277\":\"special\",\"2022030518162311939\":\"special\",\"2022030518162332249\":\"special\",\"2022030518162352494\":\"special\",\"2022030518162372161\":\"special\",\"2022030518162391141\":\"special\",\"2022030518162411016\":\"special\",\"2022030518162430511\":\"special\",\"2022030518162450641\":\"special\",\"2022030518162470119\":\"special\",\"2022030518162488138\":\"special\",\"2022030518162506415\":\"special\",\"2022030518162526254\":\"special\",\"2022030518162547123\":\"special\",\"2022030518162568236\":\"special\",\"2022030518162588680\":\"special\",\"2022030518162610092\":\"special\",\"2022030518162631665\":\"special\",\"2022030518162651565\":\"special\",\"2022030518162670195\":\"special\",\"2022030518162688806\":\"special\",\"2022030518162708219\":\"special\",\"2022030518162729567\":\"special\",\"2022030518162749846\":\"special\",\"2022030518162770029\":\"special\",\"2022030518162791729\":\"special\",\"2022030518162817822\":\"special\",\"2022030518162839896\":\"special\",\"2022030518162865018\":\"special\",\"2022030518162891401\":\"special\",\"2022030518162912294\":\"special\",\"2022030518162933221\":\"special\",\"2022030518162952456\":\"special\",\"2022030518162972665\":\"special\",\"2022030518162993743\":\"special\",\"2022030518163014472\":\"special\",\"2022030518163035785\":\"special\",\"2022030518163064478\":\"special\",\"2022030518163091553\":\"special\",\"2022030518163113166\":\"special\",\"2022030518163136757\":\"special\",\"2022030518163158020\":\"special\",\"2022030518163178616\":\"special\",\"2022030518163200054\":\"special\",\"2022030518163220969\":\"special\",\"2022030518163240918\":\"special\",\"2022030518163261370\":\"special\",\"2022030518163282104\":\"special\",\"2022030518163302605\":\"special\",\"2022030518163323029\":\"special\",\"2022030518163343172\":\"special\",\"2022030518163364048\":\"special\",\"2022030518163384130\":\"special\",\"2022030518163404031\":\"special\",\"2022030518163424468\":\"special\",\"2022030518163443670\":\"special\",\"2022030518163464500\":\"special\",\"2022030518163483912\":\"special\",\"2022030518163504583\":\"special\",\"2022030518163523888\":\"special\",\"2022030518163544032\":\"special\",\"2022030518163563985\":\"special\",\"2022030518163583494\":\"special\",\"2022030518163603814\":\"special\",\"2022030518163623578\":\"special\",\"2022030518163643722\":\"special\",\"2022030518163664703\":\"special\",\"2022030518163684821\":\"special\",\"2022030518163704638\":\"special\",\"2022030518163724943\":\"special\",\"2022030518163746006\":\"special\",\"2022030518163765211\":\"special\",\"2022030518163786252\":\"special\",\"2022030518163806017\":\"special\",\"2022030518163826240\":\"special\",\"2022030518163846189\":\"special\",\"2022030518163866382\":\"special\",\"2022030518163886060\":\"special\",\"2022030518163905432\":\"special\",\"2022030518163926086\":\"special\",\"2022030518163946757\":\"special\",\"2022030518163968899\":\"special\",\"2022030518163989426\":\"special\",\"2022030518164009094\":\"special\",\"2022030518164028683\":\"special\",\"2022030518164049095\":\"special\",\"2022030518164068594\":\"special\",\"2022030518164089234\":\"special\",\"2022030518164108371\":\"special\",\"2022030518164129042\":\"special\",\"2022030518164149667\":\"special\",\"2022030518164168825\":\"special\",\"2022030518164189608\":\"special\",\"2022030518164210392\":\"special\",\"2022030518164231522\":\"special\",\"2022030518164251713\":\"special\",\"2022030518164272310\":\"special\",\"2022030518164290626\":\"special\",\"2022030518164309814\":\"special\",\"2022030518164329055\":\"special\",\"2022030518164348618\":\"special\",\"2022030518164367573\":\"special\",\"2022030518164388331\":\"special\",\"2022030518164406643\":\"special\",\"2022030518164425304\":\"special\",\"2022030518164445114\":\"special\",\"2022030518164464310\":\"special\",\"2022030518164483998\":\"special\",\"2022030518164503962\":\"special\",\"2022030518164524013\":\"special\",\"2022030518164543959\":\"special\",\"2022030518164565051\":\"special\",\"2022030518164584300\":\"special\",\"2022030518164603496\":\"special\",\"2022030518164622889\":\"special\",\"2022030518164642365\":\"special\",\"2022030518164662019\":\"special\",\"2022030518164680928\":\"special\",\"2022030518164700824\":\"special\",\"2022030518164719897\":\"special\",\"2022030518164739886\":\"special\",\"2022030518164759236\":\"special\",\"2022030518164779095\":\"special\",\"2022030518164799066\":\"special\",\"2022030518164818296\":\"special\",\"2022030518164837865\":\"special\",\"2022030518164859113\":\"special\",\"2022030518164878000\":\"special\",\"2022030518164896561\":\"special\",\"2022030518164915003\":\"special\",\"2022030518164935260\":\"special\",\"2022030518164953763\":\"special\",\"2022030518164974003\":\"special\",\"2022030518164993666\":\"special\",\"2022030518165012551\":\"special\",\"2022030518165032618\":\"special\",\"2022030518165051156\":\"special\",\"2022030518165071653\":\"special\",\"2022030518165090788\":\"special\",\"2022030518165110390\":\"special\",\"2022030518165129259\":\"special\",\"2022030518165149019\":\"special\",\"2022030518165168098\":\"special\",\"2022030518165187033\":\"special\",\"2022030518165206526\":\"special\",\"2022030518165224967\":\"special\",\"2022030518165243345\":\"special\",\"2022030518165261920\":\"special\",\"2022030518165282030\":\"special\",\"2022030518165301477\":\"special\",\"2022030518165320505\":\"special\",\"2022030518165339211\":\"special\",\"2022030518165360055\":\"special\",\"2022030518165379063\":\"special\",\"2022030518165398166\":\"special\",\"2022030518165417356\":\"special\",\"2022030518165436179\":\"special\",\"2022030518165456463\":\"special\",\"2022030518165476015\":\"special\",\"2022030518165494721\":\"special\",\"2022030518165514644\":\"special\",\"2022030518165534723\":\"special\",\"2022030518165555158\":\"special\",\"2022030518165574800\":\"special\",\"2022030518165605855\":\"special\",\"2022030518165627992\":\"special\",\"2022030518165651061\":\"special\",\"2022030518165671390\":\"special\",\"2022030518165690878\":\"special\",\"2022030518165708965\":\"special\",\"2022030518165729742\":\"special\",\"2022030518165748623\":\"special\",\"2022030518165770065\":\"special\",\"2022030518165793471\":\"special\",\"2022030518165813911\":\"special\",\"2022030518165832922\":\"special\",\"2022030518165855327\":\"special\",\"2022030518165875648\":\"special\",\"2022030518165896757\":\"special\",\"2022030518165915590\":\"special\",\"2022030518165937363\":\"special\",\"2022030518165957751\":\"special\",\"2022030518165976932\":\"special\",\"2022030518165996486\":\"special\",\"2022030518170015524\":\"special\",\"2022030518170035531\":\"special\",\"2022030518170056483\":\"special\",\"2022030518170075809\":\"special\",\"2022030518170095809\":\"special\",\"2022030518170116331\":\"special\",\"2022030518170134861\":\"special\",\"2022030518170154155\":\"special\",\"2022030518170173931\":\"special\",\"2022030518170193037\":\"special\",\"2022030518170213588\":\"special\",\"2022030518170233669\":\"special\",\"2022030518170253238\":\"special\",\"2022030518170274061\":\"special\",\"2022030518170296203\":\"special\",\"2022030518170314862\":\"special\",\"2022030518170562661\":\"special\",\"2022030518170581250\":\"special\",\"2022030518170600102\":\"special\",\"2022030518170806742\":\"special\",\"2022030518170825822\":\"special\",\"2022030518170846862\":\"special\",\"2022030518170866138\":\"special\",\"2022030518170885372\":\"special\",\"2022030518170904253\":\"special\",\"2022030518170962003\":\"special\",\"2022030518170981480\":\"special\",\"2022030518171001309\":\"special\",\"2022030518171020602\":\"special\",\"2022030518171039840\":\"special\",\"2022030518171058774\":\"special\",\"2022030518171077374\":\"special\",\"2022030518171097693\":\"special\",\"2022030518171117076\":\"special\",\"2022030518171137133\":\"special\",\"2022030518171156272\":\"special\",\"2022030518171176773\":\"special\",\"2022030518171196045\":\"special\",\"2022030518171215187\":\"special\",\"2022030518171235075\":\"special\",\"2022030518171254231\":\"special\",\"2022030518171274778\":\"special\",\"2022030518171294749\":\"special\",\"2022030518171315367\":\"special\",\"2022030518171334685\":\"special\",\"2022030518171410384\":\"special\",\"2022030518171428807\":\"special\",\"2022030518171466380\":\"special\",\"2022030518171485273\":\"special\",\"2022030518171504778\":\"special\",\"2022030518171523750\":\"special\",\"2022030518171543161\":\"special\",\"2022030518171562116\":\"special\",\"2022030518171691354\":\"special\",\"2022030518171709478\":\"special\",\"2022030518171728460\":\"special\",\"2022030518171747049\":\"special\",\"2022030518171767205\":\"special\",\"2022030518171787816\":\"special\",\"2022030518171806492\":\"special\",\"2022030518171824546\":\"special\",\"2022030518171843453\":\"special\",\"2022030518171863194\":\"special\",\"2022030518171882664\":\"special\",\"2022030518171902109\":\"special\",\"2022030518171920344\":\"special\",\"2022030518171939138\":\"special\",\"2022030518171958694\":\"special\",\"2022030518171976436\":\"special\",\"2022030518171994983\":\"special\",\"2022030518172014076\":\"special\",\"2022030518172032734\":\"special\",\"2022030518172052460\":\"special\",\"2022030518172074942\":\"special\",\"2022030518172102690\":\"special\",\"2022030518172124099\":\"special\",\"2022030518172144392\":\"special\",\"2022030518172163119\":\"special\",\"2022030518172182428\":\"special\",\"2022030518172201199\":\"special\",\"2022030518172220331\":\"special\",\"2022030518172239132\":\"special\",\"2022030518172257949\":\"special\",\"2022030518172277901\":\"special\",\"2022030518172296704\":\"special\",\"2022030518172315502\":\"special\",\"2022030518172336114\":\"special\",\"2022030518172356527\":\"special\",\"2022030518172375567\":\"special\",\"2022030518172394360\":\"special\",\"2022030518172413067\":\"special\",\"2022030518172431738\":\"special\",\"2022030518172451005\":\"special\",\"2022030518172469584\":\"special\",\"2022030518172488013\":\"special\",\"2022030518172506646\":\"special\",\"2022030518172525170\":\"special\",\"2022030518172545008\":\"special\",\"2022030518172563179\":\"special\",\"2022030518172619238\":\"special\",\"2022030518172638491\":\"special\",\"2022030518172656684\":\"special\",\"2022030518172676238\":\"special\",\"2022030518172695366\":\"special\",\"2022030518172714373\":\"special\",\"2022030518172732576\":\"special\",\"2022030518172752177\":\"special\",\"2022030518172771234\":\"special\",\"2022030518172790080\":\"special\",\"2022030518172808269\":\"special\",\"2022030518172826549\":\"special\",\"2022030518172846500\":\"special\",\"2022030518172866289\":\"special\",\"2022030518172885689\":\"special\",\"2022030518172904204\":\"special\",\"2022030518172923921\":\"special\",\"2022030518172942572\":\"special\",\"2022030518172962450\":\"special\",\"2022030518173018656\":\"special\",\"2022030518173037975\":\"special\",\"2022030518173130139\":\"special\",\"2022030518173149567\":\"special\",\"2022030518173167898\":\"special\",\"2022030518173186173\":\"special\",\"2022030518173204868\":\"special\",\"2022030518173223381\":\"special\",\"2022030518173242290\":\"special\",\"2022030518173261340\":\"special\",\"2022030518173281112\":\"special\",\"2022030518173301260\":\"special\",\"2022030518173338494\":\"special\",\"2022030518173358534\":\"special\",\"2022030518173376521\":\"special\",\"2022030518173395397\":\"special\",\"2022030518173414007\":\"special\",\"2022030518173433258\":\"special\",\"2022030518173453273\":\"special\",\"2022030518173472715\":\"special\",\"2022030518173491679\":\"special\",\"2022030518173510042\":\"special\",\"2022030518173529188\":\"special\",\"2022030518173548199\":\"special\",\"2022030518173566981\":\"special\",\"2022030518173586934\":\"special\",\"2022030518173605723\":\"special\",\"2022030518173625399\":\"special\",\"2022030518173644258\":\"special\",\"2022030518173661955\":\"special\",\"2022030518173679878\":\"special\",\"2022030518173699469\":\"special\",\"2022030518173718381\":\"special\",\"2022030518173737117\":\"special\",\"2022030518173757624\":\"special\",\"2022030518173777216\":\"special\",\"2022030518173796686\":\"special\",\"2022030518173815799\":\"special\",\"2022030518173874278\":\"special\",\"2022030518173892875\":\"special\",\"2022030518173911378\":\"special\",\"2022030518173930803\":\"special\",\"2022030518173949329\":\"special\",\"2022030518173969725\":\"special\",\"2022030518173989540\":\"special\",\"2022030518174009543\":\"special\",\"2022030518174027786\":\"special\",\"2022030518174046287\":\"special\",\"2022030518174066652\":\"special\",\"2022030518174086603\":\"special\",\"2022030518174106487\":\"special\",\"2022030518174126133\":\"special\",\"2022030518174145059\":\"special\",\"2022030518174164365\":\"special\",\"2022030518174183338\":\"special\",\"2022030518174202221\":\"special\",\"2022030518174221543\":\"special\",\"2022030518174240865\":\"special\",\"2022030518174259076\":\"special\",\"2022030518174278936\":\"special\",\"2022030518174298128\":\"special\",\"2022030518174316791\":\"special\",\"2022030518174335338\":\"special\",\"2022030518174355163\":\"special\",\"2022030518174374420\":\"special\",\"2022030518174393653\":\"special\",\"2022030518174412618\":\"special\",\"2022030518174431514\":\"special\",\"2022030518174451242\":\"special\",\"2022030518174509177\":\"special\"},\"special_value\":{\"2022030518131893093\":\"1\",\"2022030518131912312\":\"1\",\"2022030518131931865\":\"1\",\"2022030518131952471\":\"1\",\"2022030518131972352\":\"1\",\"2022030518131998865\":\"1\",\"2022030518132088634\":\"1\",\"2022030518132110266\":\"1\",\"2022030518132132792\":\"1\",\"2022030518132158130\":\"1\",\"2022030518132192428\":\"1\",\"2022030518132213280\":\"1\",\"2022030518132233324\":\"1\",\"2022030518132254205\":\"1\",\"2022030518132274865\":\"1\",\"2022030518132294939\":\"1\",\"2022030518132316813\":\"1\",\"2022030518132342001\":\"1\",\"2022030518132364046\":\"1\",\"2022030518132383970\":\"1\",\"2022030518132404018\":\"1\",\"2022030518132423524\":\"1\",\"2022030518132444437\":\"1\",\"2022030518132465035\":\"1\",\"2022030518132485945\":\"1\",\"2022030518132505975\":\"1\",\"2022030518132526946\":\"1\",\"2022030518132547787\":\"2\",\"2022030518132576317\":\"2\",\"2022030518132597759\":\"2\",\"2022030518132617561\":\"2\",\"2022030518132638265\":\"2\",\"2022030518132658184\":\"2\",\"2022030518132678050\":\"2\",\"2022030518132700090\":\"2\",\"2022030518132720309\":\"2\",\"2022030518132741405\":\"2\",\"2022030518132761895\":\"2\",\"2022030518132783337\":\"2\",\"2022030518132806925\":\"2\",\"2022030518132827619\":\"1\",\"2022030518132868161\":\"1\",\"2022030518133246171\":\"1\",\"2022030518133327291\":\"1\",\"2022030518133346673\":\"1\",\"2022030518133366334\":\"2\",\"2022030518133389999\":\"1\",\"2022030518133410976\":\"1\",\"2022030518133430117\":\"1\",\"2022030518133450880\":\"1\",\"2022030518133469144\":\"1\",\"2022030518133488142\":\"1\",\"2022030518133509858\":\"1\",\"2022030518133528549\":\"1\",\"2022030518133549417\":\"1\",\"2022030518133606968\":\"1\",\"2022030518133626118\":\"1\",\"2022030518133646071\":\"1\",\"2022030518133665214\":\"1\",\"2022030518133690828\":\"1\",\"2022030518134066226\":\"1\",\"2022030518134104495\":\"1\",\"2022030518134125627\":\"2\",\"2022030518134145838\":\"2\",\"2022030518134165618\":\"2\",\"2022030518134184223\":\"1\",\"2022030518134202736\":\"1\",\"2022030518134222746\":\"2\",\"2022030518134241817\":\"3\",\"2022030518134261479\":\"1\",\"2022030518134281088\":\"1\",\"2022030518134318556\":\"1\",\"2022030518134356036\":\"1\",\"2022030518134374277\":\"1\",\"2022030518134393696\":\"1\",\"2022030518134411882\":\"2\",\"2022030518134429679\":\"2\",\"2022030518134448758\":\"1\",\"2022030518134466979\":\"3\",\"2022030518134485905\":\"1\",\"2022030518134504533\":\"2\",\"2022030518134523058\":\"2\",\"2022030518134541613\":\"2\",\"2022030518134561102\":\"1\",\"2022030518134587200\":\"1\",\"2022030518134610646\":\"1\",\"2022030518134631828\":\"1\",\"2022030518134652797\":\"1\",\"2022030518134676159\":\"1\",\"2022030518134696200\":\"1\",\"2022030518134716511\":\"1\",\"2022030518134739258\":\"1\",\"2022030518134760298\":\"1\",\"2022030518134780479\":\"1\",\"2022030518134799138\":\"1\",\"2022030518134817888\":\"1\",\"2022030518134836639\":\"1\",\"2022030518134855342\":\"1\",\"2022030518134874225\":\"1\",\"2022030518134892798\":\"1\",\"2022030518134911632\":\"1\",\"2022030518134930693\":\"1\",\"2022030518134948312\":\"2\",\"2022030518134966965\":\"1\",\"2022030518134986638\":\"2\",\"2022030518135005430\":\"2\",\"2022030518135025000\":\"2\",\"2022030518135044197\":\"1\",\"2022030518135062689\":\"1\",\"2022030518135080920\":\"1\",\"2022030518135101069\":\"1\",\"2022030518135121467\":\"1\",\"2022030518135145439\":\"1\",\"2022030518135166041\":\"1\",\"2022030518135185212\":\"1\",\"2022030518135204486\":\"1\",\"2022030518135224491\":\"1\",\"2022030518135243521\":\"2\",\"2022030518135262599\":\"2\",\"2022030518135283110\":\"2\",\"2022030518135302348\":\"2\",\"2022030518135321975\":\"3\",\"2022030518135343397\":\"1\",\"2022030518135366662\":\"1\",\"2022030518135387811\":\"2\",\"2022030518135409139\":\"2\",\"2022030518135430376\":\"2\",\"2022030518135452012\":\"2\",\"2022030518135471427\":\"1\",\"2022030518135489683\":\"1\",\"2022030518135507736\":\"2\",\"2022030518135526829\":\"2\",\"2022030518135545113\":\"2\",\"2022030518135564105\":\"2\",\"2022030518135583009\":\"2\",\"2022030518135601236\":\"2\",\"2022030518135619666\":\"2\",\"2022030518135637772\":\"2\",\"2022030518135656399\":\"2\",\"2022030518135675635\":\"2\",\"2022030518135696568\":\"2\",\"2022030518135717319\":\"2\",\"2022030518135736304\":\"2\",\"2022030518135755606\":\"2\",\"2022030518135775075\":\"2\",\"2022030518135793570\":\"2\",\"2022030518135812751\":\"2\",\"2022030518135831262\":\"2\",\"2022030518135850762\":\"2\",\"2022030518135873819\":\"2\",\"2022030518135894433\":\"3\",\"2022030518135913806\":\"3\",\"2022030518135933387\":\"3\",\"2022030518135952294\":\"3\",\"2022030518135970903\":\"3\",\"2022030518135989043\":\"3\",\"2022030518140008065\":\"2\",\"2022030518140026557\":\"2\",\"2022030518140044806\":\"2\",\"2022030518140073134\":\"2\",\"2022030518140095446\":\"2\",\"2022030518140115403\":\"2\",\"2022030518140134890\":\"3\",\"2022030518140153453\":\"2\",\"2022030518140171473\":\"2\",\"2022030518140191745\":\"2\",\"2022030518140210670\":\"2\",\"2022030518140229869\":\"2\",\"2022030518140248938\":\"2\",\"2022030518140266964\":\"3\",\"2022030518140287228\":\"3\",\"2022030518140305964\":\"2\",\"2022030518140324156\":\"2\",\"2022030518140343018\":\"3\",\"2022030518140361708\":\"2\",\"2022030518140383164\":\"3\",\"2022030518140402267\":\"2\",\"2022030518140421712\":\"2\",\"2022030518140443391\":\"2\",\"2022030518140463693\":\"2\",\"2022030518140482389\":\"3\",\"2022030518140501936\":\"2\",\"2022030518140521481\":\"3\",\"2022030518140540034\":\"2\",\"2022030518140560021\":\"2\",\"2022030518140579545\":\"2\",\"2022030518140598401\":\"2\",\"2022030518140622847\":\"2\",\"2022030518140651719\":\"2\",\"2022030518140675069\":\"2\",\"2022030518140709760\":\"2\",\"2022030518140733888\":\"2\",\"2022030518140755233\":\"2\",\"2022030518140773206\":\"2\",\"2022030518140792462\":\"2\",\"2022030518140812547\":\"2\",\"2022030518140831724\":\"2\",\"2022030518140850035\":\"2\",\"2022030518140868998\":\"2\",\"2022030518140887669\":\"2\",\"2022030518140905745\":\"2\",\"2022030518140923582\":\"2\",\"2022030518140941861\":\"2\",\"2022030518140960769\":\"2\",\"2022030518140979197\":\"2\",\"2022030518140998804\":\"2\",\"2022030518141017199\":\"2\",\"2022030518141036612\":\"2\",\"2022030518141054605\":\"2\",\"2022030518141072696\":\"2\",\"2022030518141092322\":\"2\",\"2022030518141110448\":\"2\",\"2022030518141128667\":\"2\",\"2022030518141148101\":\"2\",\"2022030518141169431\":\"2\",\"2022030518141188624\":\"2\",\"2022030518141206354\":\"2\",\"2022030518141226470\":\"2\",\"2022030518141247993\":\"2\",\"2022030518141268396\":\"2\",\"2022030518141290335\":\"2\",\"2022030518141309433\":\"2\",\"2022030518141328294\":\"2\",\"2022030518141347721\":\"2\",\"2022030518141366593\":\"2\",\"2022030518141385668\":\"2\",\"2022030518141404080\":\"1\",\"2022030518141423382\":\"1\",\"2022030518141441367\":\"1\",\"2022030518141459356\":\"1\",\"2022030518141477392\":\"1\",\"2022030518141496015\":\"1\",\"2022030518141514015\":\"1\",\"2022030518141531970\":\"1\",\"2022030518141549791\":\"1\",\"2022030518141569348\":\"1\",\"2022030518141588127\":\"1\",\"2022030518141606738\":\"1\",\"2022030518141624687\":\"1\",\"2022030518141643597\":\"1\",\"2022030518141661185\":\"1\",\"2022030518141679699\":\"1\",\"2022030518141697763\":\"1\",\"2022030518141716950\":\"1\",\"2022030518141736630\":\"1\",\"2022030518141755952\":\"1\",\"2022030518141774875\":\"1\",\"2022030518141793822\":\"1\",\"2022030518141810919\":\"1\",\"2022030518141828805\":\"1\",\"2022030518141847470\":\"1\",\"2022030518141867433\":\"1\",\"2022030518141885495\":\"1\",\"2022030518141903617\":\"1\",\"2022030518141922181\":\"1\",\"2022030518141942733\":\"1\",\"2022030518141961117\":\"1\",\"2022030518141979497\":\"1\",\"2022030518141997480\":\"1\",\"2022030518142016618\":\"1\",\"2022030518142034918\":\"1\",\"2022030518142053855\":\"1\",\"2022030518142071626\":\"1\",\"2022030518142090832\":\"1\",\"2022030518142108569\":\"1\",\"2022030518142126966\":\"1\",\"2022030518142145403\":\"1\",\"2022030518142174622\":\"1\",\"2022030518142197332\":\"1\",\"2022030518142217849\":\"1\",\"2022030518142235941\":\"1\",\"2022030518142254803\":\"1\",\"2022030518142272997\":\"1\",\"2022030518142291444\":\"1\",\"2022030518142309529\":\"1\",\"2022030518142327891\":\"1\",\"2022030518142346056\":\"1\",\"2022030518142366439\":\"1\",\"2022030518142383743\":\"2\",\"2022030518142402554\":\"1\",\"2022030518142421427\":\"1\",\"2022030518142439163\":\"1\",\"2022030518142457666\":\"2\",\"2022030518142475451\":\"1\",\"2022030518142494137\":\"1\",\"2022030518142512512\":\"1\",\"2022030518142530910\":\"1\",\"2022030518142549901\":\"1\",\"2022030518142569023\":\"1\",\"2022030518142586686\":\"1\",\"2022030518142605660\":\"1\",\"2022030518142624278\":\"1\",\"2022030518142644018\":\"1\",\"2022030518142662888\":\"1\",\"2022030518142680810\":\"1\",\"2022030518142698997\":\"1\",\"2022030518142717879\":\"1\",\"2022030518142735341\":\"1\",\"2022030518142753894\":\"1\",\"2022030518142772661\":\"1\",\"2022030518142792802\":\"1\",\"2022030518142810914\":\"1\",\"2022030518142831514\":\"1\",\"2022030518142851299\":\"1\",\"2022030518142870058\":\"1\",\"2022030518142887207\":\"1\",\"2022030518142905559\":\"1\",\"2022030518142923965\":\"1\",\"2022030518142943773\":\"1\",\"2022030518142962121\":\"1\",\"2022030518142980071\":\"1\",\"2022030518142999037\":\"1\",\"2022030518143019223\":\"1\",\"2022030518143037732\":\"1\",\"2022030518143056075\":\"1\",\"2022030518143075180\":\"1\",\"2022030518143094378\":\"1\",\"2022030518143111968\":\"1\",\"2022030518143131677\":\"2\",\"2022030518143152767\":\"2\",\"2022030518143171978\":\"2\",\"2022030518143190968\":\"2\",\"2022030518143209933\":\"2\",\"2022030518143228505\":\"2\",\"2022030518143246940\":\"2\",\"2022030518143265864\":\"2\",\"2022030518143285657\":\"2\",\"2022030518143303441\":\"2\",\"2022030518143322563\":\"2\",\"2022030518143341309\":\"2\",\"2022030518143360611\":\"2\",\"2022030518143378914\":\"1\",\"2022030518143397853\":\"1\",\"2022030518143417165\":\"1\",\"2022030518143436871\":\"1\",\"2022030518143456466\":\"2\",\"2022030518143478165\":\"1\",\"2022030518143496659\":\"1\",\"2022030518143516729\":\"1\",\"2022030518143536606\":\"1\",\"2022030518143556122\":\"2\",\"2022030518143577823\":\"1\",\"2022030518143596611\":\"1\",\"2022030518143615326\":\"1\",\"2022030518143635495\":\"1\",\"2022030518143657980\":\"1\",\"2022030518143678725\":\"1\",\"2022030518143700894\":\"1\",\"2022030518143721241\":\"1\",\"2022030518143742249\":\"1\",\"2022030518143762287\":\"1\",\"2022030518143781321\":\"1\",\"2022030518143802004\":\"1\",\"2022030518143820497\":\"1\",\"2022030518143843286\":\"1\",\"2022030518143872255\":\"1\",\"2022030518143893455\":\"1\",\"2022030518143911339\":\"1\",\"2022030518143930720\":\"1\",\"2022030518143950879\":\"1\",\"2022030518143970542\":\"1\",\"2022030518143989290\":\"1\",\"2022030518144007997\":\"1\",\"2022030518144027726\":\"1\",\"2022030518144046786\":\"1\",\"2022030518144065232\":\"1\",\"2022030518144086911\":\"1\",\"2022030518144104581\":\"1\",\"2022030518144124182\":\"1\",\"2022030518144142851\":\"2\",\"2022030518144162256\":\"1\",\"2022030518144181748\":\"1\",\"2022030518144199847\":\"1\",\"2022030518144218651\":\"1\",\"2022030518144238604\":\"1\",\"2022030518144256634\":\"2\",\"2022030518144276129\":\"3\",\"2022030518144294909\":\"1\",\"2022030518144312914\":\"1\",\"2022030518144332201\":\"1\",\"2022030518144350961\":\"1\",\"2022030518144370544\":\"1\",\"2022030518144389738\":\"1\",\"2022030518144407235\":\"1\",\"2022030518144426272\":\"2\",\"2022030518144445300\":\"1\",\"2022030518144466093\":\"1\",\"2022030518144485634\":\"1\",\"2022030518144504995\":\"1\",\"2022030518144530130\":\"1\",\"2022030518144549799\":\"1\",\"2022030518144570080\":\"1\",\"2022030518144591653\":\"1\",\"2022030518144614477\":\"1\",\"2022030518144636754\":\"2\",\"2022030518144658339\":\"2\",\"2022030518144677769\":\"2\",\"2022030518144696858\":\"2\",\"2022030518144729098\":\"2\",\"2022030518144764617\":\"2\",\"2022030518144790427\":\"2\",\"2022030518144809404\":\"2\",\"2022030518144828480\":\"2\",\"2022030518144846626\":\"2\",\"2022030518144865159\":\"3\",\"2022030518144883790\":\"2\",\"2022030518144903207\":\"3\",\"2022030518144923480\":\"3\",\"2022030518144940882\":\"3\",\"2022030518144958083\":\"3\",\"2022030518144976618\":\"3\",\"2022030518144996232\":\"3\",\"2022030518145020003\":\"3\",\"2022030518145041102\":\"3\",\"2022030518145060297\":\"3\",\"2022030518145080018\":\"3\",\"2022030518145100539\":\"3\",\"2022030518145122542\":\"3\",\"2022030518145146375\":\"3\",\"2022030518145166222\":\"3\",\"2022030518145189636\":\"3\",\"2022030518145210037\":\"3\",\"2022030518145229000\":\"3\",\"2022030518145249378\":\"3\",\"2022030518145268755\":\"3\",\"2022030518145287068\":\"3\",\"2022030518145307028\":\"3\",\"2022030518145325578\":\"2\",\"2022030518145344179\":\"3\",\"2022030518145362715\":\"3\",\"2022030518145382696\":\"3\",\"2022030518145401699\":\"3\",\"2022030518145419999\":\"3\",\"2022030518145443031\":\"2\",\"2022030518145465140\":\"2\",\"2022030518145485534\":\"3\",\"2022030518145506404\":\"3\",\"2022030518145526325\":\"3\",\"2022030518145545445\":\"3\",\"2022030518145564004\":\"3\",\"2022030518145583643\":\"2\",\"2022030518145604193\":\"2\",\"2022030518145630067\":\"2\",\"2022030518145652201\":\"3\",\"2022030518145677051\":\"3\",\"2022030518145698265\":\"3\",\"2022030518145717421\":\"3\",\"2022030518145736887\":\"3\",\"2022030518145761609\":\"3\",\"2022030518145783769\":\"3\",\"2022030518145804748\":\"2\",\"2022030518145825510\":\"2\",\"2022030518145844809\":\"2\",\"2022030518145864074\":\"2\",\"2022030518145883711\":\"2\",\"2022030518145902218\":\"2\",\"2022030518145920159\":\"3\",\"2022030518145939004\":\"2\",\"2022030518145957039\":\"2\",\"2022030518145976010\":\"3\",\"2022030518150002874\":\"2\",\"2022030518150022404\":\"3\",\"2022030518150043154\":\"3\",\"2022030518150062315\":\"2\",\"2022030518150081627\":\"3\",\"2022030518150101403\":\"2\",\"2022030518150122289\":\"2\",\"2022030518150141514\":\"2\",\"2022030518150165943\":\"2\",\"2022030518150187090\":\"2\",\"2022030518150205648\":\"2\",\"2022030518150224471\":\"2\",\"2022030518150242806\":\"2\",\"2022030518150261696\":\"2\",\"2022030518150284425\":\"2\",\"2022030518150302979\":\"2\",\"2022030518150321918\":\"2\",\"2022030518150341436\":\"2\",\"2022030518150361689\":\"2\",\"2022030518150381959\":\"2\",\"2022030518150400759\":\"2\",\"2022030518150418819\":\"2\",\"2022030518150437608\":\"2\",\"2022030518150456023\":\"2\",\"2022030518150475925\":\"2\",\"2022030518150495001\":\"2\",\"2022030518150513776\":\"2\",\"2022030518150533137\":\"3\",\"2022030518150551774\":\"3\",\"2022030518150570539\":\"3\",\"2022030518150590690\":\"3\",\"2022030518150609987\":\"3\",\"2022030518150629613\":\"3\",\"2022030518150650711\":\"3\",\"2022030518150672033\":\"2\",\"2022030518150692131\":\"2\",\"2022030518150710687\":\"2\",\"2022030518150729265\":\"3\",\"2022030518150748243\":\"2\",\"2022030518150766896\":\"2\",\"2022030518150786402\":\"2\",\"2022030518150803877\":\"2\",\"2022030518150822203\":\"3\",\"2022030518150841900\":\"3\",\"2022030518150860780\":\"2\",\"2022030518150880320\":\"2\",\"2022030518150899276\":\"2\",\"2022030518150917744\":\"2\",\"2022030518150937688\":\"2\",\"2022030518150955351\":\"2\",\"2022030518150973943\":\"2\",\"2022030518150992469\":\"2\",\"2022030518151010280\":\"2\",\"2022030518151028919\":\"2\",\"2022030518151048495\":\"3\",\"2022030518151067180\":\"2\",\"2022030518151088479\":\"2\",\"2022030518151108483\":\"2\",\"2022030518151132322\":\"3\",\"2022030518151154235\":\"3\",\"2022030518151173999\":\"3\",\"2022030518151192750\":\"3\",\"2022030518151211176\":\"3\",\"2022030518151230908\":\"3\",\"2022030518151248470\":\"3\",\"2022030518151267366\":\"3\",\"2022030518151285280\":\"3\",\"2022030518151305713\":\"3\",\"2022030518151334115\":\"3\",\"2022030518151357154\":\"3\",\"2022030518151386365\":\"3\",\"2022030518151408309\":\"3\",\"2022030518151444085\":\"3\",\"2022030518151467772\":\"3\",\"2022030518151490974\":\"3\",\"2022030518151510937\":\"3\",\"2022030518151529588\":\"2\",\"2022030518151548966\":\"2\",\"2022030518151568059\":\"2\",\"2022030518151586772\":\"2\",\"2022030518151608639\":\"2\",\"2022030518151636952\":\"3\",\"2022030518151665969\":\"3\",\"2022030518151686202\":\"3\",\"2022030518151706297\":\"3\",\"2022030518151725588\":\"3\",\"2022030518151743973\":\"3\",\"2022030518151764183\":\"3\",\"2022030518151784420\":\"3\",\"2022030518151805286\":\"3\",\"2022030518151825080\":\"3\",\"2022030518151845925\":\"3\",\"2022030518151865723\":\"3\",\"2022030518151883625\":\"3\",\"2022030518151901200\":\"3\",\"2022030518151918979\":\"3\",\"2022030518151937149\":\"3\",\"2022030518151955543\":\"3\",\"2022030518151975025\":\"3\",\"2022030518151993502\":\"3\",\"2022030518152012583\":\"3\",\"2022030518152030499\":\"3\",\"2022030518152049006\":\"3\",\"2022030518152066999\":\"3\",\"2022030518152083888\":\"3\",\"2022030518152101975\":\"3\",\"2022030518152121453\":\"4\",\"2022030518152139590\":\"3\",\"2022030518152157395\":\"3\",\"2022030518152176901\":\"3\",\"2022030518152195809\":\"4\",\"2022030518152215075\":\"3\",\"2022030518152234720\":\"3\",\"2022030518152255455\":\"3\",\"2022030518152274783\":\"3\",\"2022030518152294032\":\"3\",\"2022030518152311794\":\"3\",\"2022030518152328678\":\"3\",\"2022030518152348498\":\"3\",\"2022030518152365687\":\"3\",\"2022030518152384366\":\"3\",\"2022030518152401301\":\"3\",\"2022030518152419976\":\"3\",\"2022030518152438317\":\"3\",\"2022030518152459575\":\"3\",\"2022030518152479062\":\"3\",\"2022030518152497682\":\"3\",\"2022030518152515099\":\"3\",\"2022030518152533076\":\"3\",\"2022030518152552166\":\"3\",\"2022030518152570350\":\"3\",\"2022030518152587671\":\"3\",\"2022030518152605754\":\"3\",\"2022030518152624191\":\"3\",\"2022030518152642412\":\"3\",\"2022030518152661732\":\"3\",\"2022030518152679904\":\"3\",\"2022030518152698062\":\"3\",\"2022030518152716014\":\"3\",\"2022030518152734509\":\"3\",\"2022030518152752988\":\"3\",\"2022030518152771099\":\"3\",\"2022030518152789184\":\"3\",\"2022030518152808583\":\"3\",\"2022030518152827533\":\"3\",\"2022030518152846698\":\"3\",\"2022030518152865791\":\"2\",\"2022030518152883991\":\"3\",\"2022030518152903906\":\"3\",\"2022030518152922171\":\"3\",\"2022030518152940796\":\"3\",\"2022030518152958898\":\"2\",\"2022030518152977957\":\"3\",\"2022030518152997379\":\"3\",\"2022030518153015799\":\"3\",\"2022030518153034107\":\"3\",\"2022030518153051815\":\"3\",\"2022030518153069980\":\"3\",\"2022030518153088630\":\"3\",\"2022030518153107798\":\"3\",\"2022030518153126120\":\"3\",\"2022030518153143636\":\"3\",\"2022030518153162334\":\"3\",\"2022030518153181614\":\"3\",\"2022030518153199902\":\"3\",\"2022030518153218279\":\"2\",\"2022030518153235304\":\"3\",\"2022030518153258396\":\"3\",\"2022030518153276833\":\"4\",\"2022030518153296357\":\"3\",\"2022030518153313971\":\"3\",\"2022030518153331840\":\"3\",\"2022030518153350274\":\"3\",\"2022030518153368632\":\"3\",\"2022030518153386590\":\"3\",\"2022030518153404480\":\"3\",\"2022030518153423676\":\"3\",\"2022030518153442643\":\"3\",\"2022030518153460957\":\"2\",\"2022030518153478300\":\"3\",\"2022030518153496856\":\"3\",\"2022030518153516025\":\"3\",\"2022030518153535136\":\"3\",\"2022030518153554558\":\"2\",\"2022030518153573550\":\"3\",\"2022030518153592069\":\"3\",\"2022030518153610187\":\"2\",\"2022030518153628051\":\"3\",\"2022030518153646020\":\"2\",\"2022030518153664909\":\"2\",\"2022030518153683026\":\"2\",\"2022030518153702294\":\"3\",\"2022030518153721364\":\"3\",\"2022030518153740344\":\"3\",\"2022030518153758703\":\"3\",\"2022030518153787555\":\"3\",\"2022030518153808923\":\"4\",\"2022030518153830146\":\"3\",\"2022030518153852289\":\"3\",\"2022030518153871433\":\"3\",\"2022030518153891264\":\"3\",\"2022030518153910541\":\"3\",\"2022030518153929325\":\"3\",\"2022030518153948676\":\"2\",\"2022030518153967166\":\"3\",\"2022030518153985498\":\"3\",\"2022030518154004678\":\"4\",\"2022030518154023675\":\"3\",\"2022030518154042760\":\"3\",\"2022030518154062756\":\"3\",\"2022030518154082325\":\"3\",\"2022030518154100434\":\"3\",\"2022030518154119294\":\"3\",\"2022030518154138604\":\"2\",\"2022030518154156988\":\"3\",\"2022030518154175444\":\"2\",\"2022030518154193503\":\"2\",\"2022030518154212516\":\"3\",\"2022030518154230888\":\"2\",\"2022030518154250077\":\"2\",\"2022030518154268915\":\"2\",\"2022030518154288408\":\"2\",\"2022030518154307860\":\"2\",\"2022030518154327818\":\"2\",\"2022030518154347236\":\"2\",\"2022030518154365625\":\"2\",\"2022030518154387312\":\"2\",\"2022030518154405336\":\"2\",\"2022030518154424240\":\"2\",\"2022030518154443071\":\"2\",\"2022030518154462407\":\"2\",\"2022030518154482047\":\"2\",\"2022030518154501156\":\"3\",\"2022030518154519433\":\"2\",\"2022030518154540257\":\"3\",\"2022030518154558670\":\"2\",\"2022030518154578128\":\"2\",\"2022030518154596166\":\"2\",\"2022030518154614544\":\"3\",\"2022030518154634540\":\"2\",\"2022030518154652716\":\"3\",\"2022030518154672838\":\"2\",\"2022030518154692049\":\"2\",\"2022030518154711821\":\"2\",\"2022030518154731927\":\"3\",\"2022030518154751168\":\"3\",\"2022030518154770081\":\"3\",\"2022030518154789694\":\"3\",\"2022030518154807779\":\"3\",\"2022030518154826519\":\"3\",\"2022030518154845631\":\"3\",\"2022030518154865514\":\"3\",\"2022030518154882918\":\"3\",\"2022030518154901311\":\"2\",\"2022030518154920211\":\"3\",\"2022030518154938710\":\"3\",\"2022030518154957808\":\"3\",\"2022030518154976952\":\"3\",\"2022030518154997134\":\"3\",\"2022030518155017641\":\"3\",\"2022030518155037362\":\"2\",\"2022030518155056883\":\"2\",\"2022030518155075396\":\"2\",\"2022030518155094759\":\"3\",\"2022030518155112707\":\"3\",\"2022030518155132769\":\"3\",\"2022030518155152628\":\"3\",\"2022030518155170195\":\"2\",\"2022030518155188988\":\"2\",\"2022030518155208814\":\"2\",\"2022030518155227376\":\"2\",\"2022030518155246767\":\"2\",\"2022030518155266728\":\"3\",\"2022030518155289134\":\"2\",\"2022030518155310097\":\"3\",\"2022030518155329544\":\"2\",\"2022030518155353446\":\"2\",\"2022030518155373575\":\"2\",\"2022030518155393214\":\"2\",\"2022030518155415125\":\"3\",\"2022030518155435094\":\"3\",\"2022030518155457797\":\"3\",\"2022030518155477584\":\"3\",\"2022030518155499859\":\"3\",\"2022030518155520067\":\"3\",\"2022030518155538327\":\"3\",\"2022030518155558970\":\"3\",\"2022030518155576871\":\"3\",\"2022030518155596906\":\"3\",\"2022030518155617322\":\"3\",\"2022030518155638110\":\"3\",\"2022030518155659611\":\"3\",\"2022030518155678720\":\"3\",\"2022030518155698433\":\"2\",\"2022030518155717930\":\"2\",\"2022030518155737144\":\"2\",\"2022030518155755882\":\"2\",\"2022030518155775454\":\"2\",\"2022030518155795509\":\"2\",\"2022030518155815847\":\"2\",\"2022030518155838397\":\"3\",\"2022030518155862459\":\"3\",\"2022030518155884002\":\"2\",\"2022030518155905637\":\"2\",\"2022030518155926879\":\"2\",\"2022030518155947536\":\"3\",\"2022030518155967953\":\"3\",\"2022030518155988673\":\"3\",\"2022030518160009206\":\"2\",\"2022030518160029122\":\"2\",\"2022030518160048924\":\"3\",\"2022030518160071507\":\"4\",\"2022030518160094950\":\"4\",\"2022030518160115713\":\"3\",\"2022030518160137219\":\"3\",\"2022030518160160842\":\"2\",\"2022030518160183397\":\"2\",\"2022030518160202240\":\"2\",\"2022030518160223529\":\"2\",\"2022030518160242726\":\"2\",\"2022030518160262714\":\"3\",\"2022030518160284841\":\"3\",\"2022030518160305942\":\"2\",\"2022030518160326686\":\"4\",\"2022030518160347874\":\"2\",\"2022030518160369675\":\"2\",\"2022030518160391624\":\"2\",\"2022030518160412646\":\"2\",\"2022030518160432216\":\"2\",\"2022030518160458753\":\"2\",\"2022030518160480301\":\"2\",\"2022030518160502520\":\"2\",\"2022030518160521938\":\"2\",\"2022030518160541887\":\"2\",\"2022030518160560203\":\"2\",\"2022030518160579165\":\"3\",\"2022030518160618950\":\"4\",\"2022030518160654932\":\"3\",\"2022030518160679305\":\"2\",\"2022030518160702362\":\"3\",\"2022030518160732286\":\"3\",\"2022030518160754559\":\"3\",\"2022030518160796213\":\"3\",\"2022030518160820779\":\"4\",\"2022030518160843842\":\"4\",\"2022030518160870441\":\"4\",\"2022030518160892370\":\"3\",\"2022030518160914353\":\"3\",\"2022030518160941043\":\"3\",\"2022030518160960243\":\"2\",\"2022030518160979985\":\"2\",\"2022030518160999197\":\"3\",\"2022030518161019936\":\"2\",\"2022030518161038955\":\"2\",\"2022030518161064089\":\"2\",\"2022030518161086424\":\"2\",\"2022030518161112186\":\"3\",\"2022030518161133475\":\"3\",\"2022030518161152436\":\"3\",\"2022030518161172280\":\"3\",\"2022030518161191947\":\"4\",\"2022030518161213943\":\"3\",\"2022030518161234357\":\"5\",\"2022030518161254821\":\"5\",\"2022030518161281471\":\"4\",\"2022030518161304281\":\"3\",\"2022030518161328249\":\"3\",\"2022030518161348698\":\"3\",\"2022030518161369258\":\"3\",\"2022030518161391056\":\"3\",\"2022030518161410155\":\"3\",\"2022030518161428652\":\"3\",\"2022030518161450065\":\"3\",\"2022030518161468556\":\"3\",\"2022030518161487961\":\"4\",\"2022030518161508385\":\"3\",\"2022030518161537343\":\"4\",\"2022030518161559609\":\"3\",\"2022030518161579129\":\"3\",\"2022030518161599220\":\"3\",\"2022030518161619341\":\"4\",\"2022030518161638060\":\"4\",\"2022030518161657685\":\"3\",\"2022030518161678334\":\"2\",\"2022030518161697671\":\"3\",\"2022030518161717195\":\"3\",\"2022030518161736491\":\"3\",\"2022030518161757275\":\"3\",\"2022030518161777538\":\"4\",\"2022030518161797363\":\"3\",\"2022030518161818308\":\"3\",\"2022030518161844169\":\"3\",\"2022030518161868655\":\"3\",\"2022030518161892061\":\"3\",\"2022030518161916195\":\"5\",\"2022030518161939963\":\"3\",\"2022030518161963037\":\"4\",\"2022030518161984816\":\"3\",\"2022030518162007896\":\"4\",\"2022030518162028718\":\"3\",\"2022030518162052127\":\"3\",\"2022030518162072163\":\"4\",\"2022030518162095992\":\"3\",\"2022030518162115485\":\"3\",\"2022030518162133417\":\"3\",\"2022030518162154137\":\"3\",\"2022030518162172866\":\"4\",\"2022030518162192597\":\"3\",\"2022030518162214253\":\"3\",\"2022030518162232718\":\"3\",\"2022030518162252768\":\"3\",\"2022030518162272439\":\"3\",\"2022030518162292277\":\"3\",\"2022030518162311939\":\"4\",\"2022030518162332249\":\"4\",\"2022030518162352494\":\"3\",\"2022030518162372161\":\"3\",\"2022030518162391141\":\"3\",\"2022030518162411016\":\"4\",\"2022030518162430511\":\"3\",\"2022030518162450641\":\"3\",\"2022030518162470119\":\"3\",\"2022030518162488138\":\"3\",\"2022030518162506415\":\"3\",\"2022030518162526254\":\"5\",\"2022030518162547123\":\"5\",\"2022030518162568236\":\"5\",\"2022030518162588680\":\"3\",\"2022030518162610092\":\"4\",\"2022030518162631665\":\"4\",\"2022030518162651565\":\"3\",\"2022030518162670195\":\"3\",\"2022030518162688806\":\"3\",\"2022030518162708219\":\"4\",\"2022030518162729567\":\"4\",\"2022030518162749846\":\"4\",\"2022030518162770029\":\"4\",\"2022030518162791729\":\"4\",\"2022030518162817822\":\"4\",\"2022030518162839896\":\"4\",\"2022030518162865018\":\"4\",\"2022030518162891401\":\"3\",\"2022030518162912294\":\"3\",\"2022030518162933221\":\"3\",\"2022030518162952456\":\"3\",\"2022030518162972665\":\"3\",\"2022030518162993743\":\"3\",\"2022030518163014472\":\"3\",\"2022030518163035785\":\"4\",\"2022030518163064478\":\"3\",\"2022030518163091553\":\"3\",\"2022030518163113166\":\"3\",\"2022030518163136757\":\"3\",\"2022030518163158020\":\"3\",\"2022030518163178616\":\"3\",\"2022030518163200054\":\"3\",\"2022030518163220969\":\"3\",\"2022030518163240918\":\"3\",\"2022030518163261370\":\"3\",\"2022030518163282104\":\"3\",\"2022030518163302605\":\"3\",\"2022030518163323029\":\"3\",\"2022030518163343172\":\"2\",\"2022030518163364048\":\"3\",\"2022030518163384130\":\"2\",\"2022030518163404031\":\"3\",\"2022030518163424468\":\"3\",\"2022030518163443670\":\"3\",\"2022030518163464500\":\"3\",\"2022030518163483912\":\"3\",\"2022030518163504583\":\"3\",\"2022030518163523888\":\"3\",\"2022030518163544032\":\"3\",\"2022030518163563985\":\"3\",\"2022030518163583494\":\"4\",\"2022030518163603814\":\"4\",\"2022030518163623578\":\"5\",\"2022030518163643722\":\"4\",\"2022030518163664703\":\"4\",\"2022030518163684821\":\"4\",\"2022030518163704638\":\"4\",\"2022030518163724943\":\"5\",\"2022030518163746006\":\"5\",\"2022030518163765211\":\"4\",\"2022030518163786252\":\"6\",\"2022030518163806017\":\"7\",\"2022030518163826240\":\"7\",\"2022030518163846189\":\"7\",\"2022030518163866382\":\"6\",\"2022030518163886060\":\"7\",\"2022030518163905432\":\"7\",\"2022030518163926086\":\"6\",\"2022030518163946757\":\"6\",\"2022030518163968899\":\"7\",\"2022030518163989426\":\"6\",\"2022030518164009094\":\"4\",\"2022030518164028683\":\"4\",\"2022030518164049095\":\"5\",\"2022030518164068594\":\"3\",\"2022030518164089234\":\"3\",\"2022030518164108371\":\"3\",\"2022030518164129042\":\"3\",\"2022030518164149667\":\"3\",\"2022030518164168825\":\"3\",\"2022030518164189608\":\"3\",\"2022030518164210392\":\"3\",\"2022030518164231522\":\"3\",\"2022030518164251713\":\"3\",\"2022030518164272310\":\"3\",\"2022030518164290626\":\"3\",\"2022030518164309814\":\"3\",\"2022030518164329055\":\"3\",\"2022030518164348618\":\"3\",\"2022030518164367573\":\"3\",\"2022030518164388331\":\"3\",\"2022030518164406643\":\"3\",\"2022030518164425304\":\"3\",\"2022030518164445114\":\"3\",\"2022030518164464310\":\"3\",\"2022030518164483998\":\"4\",\"2022030518164503962\":\"4\",\"2022030518164524013\":\"4\",\"2022030518164543959\":\"3\",\"2022030518164565051\":\"4\",\"2022030518164584300\":\"4\",\"2022030518164603496\":\"4\",\"2022030518164622889\":\"5\",\"2022030518164642365\":\"4\",\"2022030518164662019\":\"4\",\"2022030518164680928\":\"4\",\"2022030518164700824\":\"4\",\"2022030518164719897\":\"3\",\"2022030518164739886\":\"4\",\"2022030518164759236\":\"2\",\"2022030518164779095\":\"3\",\"2022030518164799066\":\"4\",\"2022030518164818296\":\"3\",\"2022030518164837865\":\"3\",\"2022030518164859113\":\"3\",\"2022030518164878000\":\"3\",\"2022030518164896561\":\"3\",\"2022030518164915003\":\"3\",\"2022030518164935260\":\"3\",\"2022030518164953763\":\"3\",\"2022030518164974003\":\"3\",\"2022030518164993666\":\"3\",\"2022030518165012551\":\"3\",\"2022030518165032618\":\"3\",\"2022030518165051156\":\"3\",\"2022030518165071653\":\"3\",\"2022030518165090788\":\"3\",\"2022030518165110390\":\"3\",\"2022030518165129259\":\"3\",\"2022030518165149019\":\"3\",\"2022030518165168098\":\"3\",\"2022030518165187033\":\"3\",\"2022030518165206526\":\"3\",\"2022030518165224967\":\"3\",\"2022030518165243345\":\"3\",\"2022030518165261920\":\"4\",\"2022030518165282030\":\"4\",\"2022030518165301477\":\"4\",\"2022030518165320505\":\"5\",\"2022030518165339211\":\"4\",\"2022030518165360055\":\"2\",\"2022030518165379063\":\"2\",\"2022030518165398166\":\"2\",\"2022030518165417356\":\"2\",\"2022030518165436179\":\"3\",\"2022030518165456463\":\"3\",\"2022030518165476015\":\"3\",\"2022030518165494721\":\"2\",\"2022030518165514644\":\"2\",\"2022030518165534723\":\"2\",\"2022030518165555158\":\"3\",\"2022030518165574800\":\"3\",\"2022030518165605855\":\"4\",\"2022030518165627992\":\"2\",\"2022030518165651061\":\"3\",\"2022030518165671390\":\"3\",\"2022030518165690878\":\"2\",\"2022030518165708965\":\"2\",\"2022030518165729742\":\"3\",\"2022030518165748623\":\"2\",\"2022030518165770065\":\"2\",\"2022030518165793471\":\"2\",\"2022030518165813911\":\"2\",\"2022030518165832922\":\"2\",\"2022030518165855327\":\"1\",\"2022030518165875648\":\"1\",\"2022030518165896757\":\"1\",\"2022030518165915590\":\"1\",\"2022030518165937363\":\"1\",\"2022030518165957751\":\"1\",\"2022030518165976932\":\"1\",\"2022030518165996486\":\"1\",\"2022030518170015524\":\"1\",\"2022030518170035531\":\"1\",\"2022030518170056483\":\"1\",\"2022030518170075809\":\"1\",\"2022030518170095809\":\"1\",\"2022030518170116331\":\"2\",\"2022030518170134861\":\"2\",\"2022030518170154155\":\"1\",\"2022030518170173931\":\"2\",\"2022030518170193037\":\"1\",\"2022030518170213588\":\"1\",\"2022030518170233669\":\"1\",\"2022030518170253238\":\"1\",\"2022030518170274061\":\"1\",\"2022030518170296203\":\"1\",\"2022030518170314862\":\"1\",\"2022030518170562661\":\"1\",\"2022030518170581250\":\"1\",\"2022030518170600102\":\"1\",\"2022030518170806742\":\"1\",\"2022030518170825822\":\"2\",\"2022030518170846862\":\"1\",\"2022030518170866138\":\"2\",\"2022030518170885372\":\"2\",\"2022030518170904253\":\"2\",\"2022030518170962003\":\"2\",\"2022030518170981480\":\"2\",\"2022030518171001309\":\"3\",\"2022030518171020602\":\"3\",\"2022030518171039840\":\"3\",\"2022030518171058774\":\"3\",\"2022030518171077374\":\"3\",\"2022030518171097693\":\"2\",\"2022030518171117076\":\"3\",\"2022030518171137133\":\"3\",\"2022030518171156272\":\"3\",\"2022030518171176773\":\"2\",\"2022030518171196045\":\"3\",\"2022030518171215187\":\"3\",\"2022030518171235075\":\"3\",\"2022030518171254231\":\"1\",\"2022030518171274778\":\"2\",\"2022030518171294749\":\"1\",\"2022030518171315367\":\"1\",\"2022030518171334685\":\"1\",\"2022030518171410384\":\"1\",\"2022030518171428807\":\"1\",\"2022030518171466380\":\"2\",\"2022030518171485273\":\"2\",\"2022030518171504778\":\"2\",\"2022030518171523750\":\"1\",\"2022030518171543161\":\"1\",\"2022030518171562116\":\"1\",\"2022030518171691354\":\"1\",\"2022030518171709478\":\"2\",\"2022030518171728460\":\"2\",\"2022030518171747049\":\"2\",\"2022030518171767205\":\"1\",\"2022030518171787816\":\"1\",\"2022030518171806492\":\"1\",\"2022030518171824546\":\"1\",\"2022030518171843453\":\"1\",\"2022030518171863194\":\"1\",\"2022030518171882664\":\"1\",\"2022030518171902109\":\"1\",\"2022030518171920344\":\"1\",\"2022030518171939138\":\"1\",\"2022030518171958694\":\"1\",\"2022030518171976436\":\"1\",\"2022030518171994983\":\"1\",\"2022030518172014076\":\"1\",\"2022030518172032734\":\"1\",\"2022030518172052460\":\"1\",\"2022030518172074942\":\"1\",\"2022030518172102690\":\"2\",\"2022030518172124099\":\"1\",\"2022030518172144392\":\"1\",\"2022030518172163119\":\"1\",\"2022030518172182428\":\"2\",\"2022030518172201199\":\"1\",\"2022030518172220331\":\"1\",\"2022030518172239132\":\"1\",\"2022030518172257949\":\"1\",\"2022030518172277901\":\"1\",\"2022030518172296704\":\"1\",\"2022030518172315502\":\"1\",\"2022030518172336114\":\"1\",\"2022030518172356527\":\"1\",\"2022030518172375567\":\"1\",\"2022030518172394360\":\"1\",\"2022030518172413067\":\"1\",\"2022030518172431738\":\"1\",\"2022030518172451005\":\"1\",\"2022030518172469584\":\"1\",\"2022030518172488013\":\"1\",\"2022030518172506646\":\"1\",\"2022030518172525170\":\"1\",\"2022030518172545008\":\"2\",\"2022030518172563179\":\"1\",\"2022030518172619238\":\"1\",\"2022030518172638491\":\"1\",\"2022030518172656684\":\"1\",\"2022030518172676238\":\"1\",\"2022030518172695366\":\"1\",\"2022030518172714373\":\"1\",\"2022030518172732576\":\"1\",\"2022030518172752177\":\"1\",\"2022030518172771234\":\"1\",\"2022030518172790080\":\"1\",\"2022030518172808269\":\"1\",\"2022030518172826549\":\"1\",\"2022030518172846500\":\"1\",\"2022030518172866289\":\"1\",\"2022030518172885689\":\"1\",\"2022030518172904204\":\"1\",\"2022030518172923921\":\"1\",\"2022030518172942572\":\"1\",\"2022030518172962450\":\"1\",\"2022030518173018656\":\"1\",\"2022030518173037975\":\"1\",\"2022030518173130139\":\"1\",\"2022030518173149567\":\"1\",\"2022030518173167898\":\"1\",\"2022030518173186173\":\"2\",\"2022030518173204868\":\"1\",\"2022030518173223381\":\"1\",\"2022030518173242290\":\"1\",\"2022030518173261340\":\"1\",\"2022030518173281112\":\"1\",\"2022030518173301260\":\"1\",\"2022030518173338494\":\"1\",\"2022030518173358534\":\"1\",\"2022030518173376521\":\"1\",\"2022030518173395397\":\"1\",\"2022030518173414007\":\"1\",\"2022030518173433258\":\"1\",\"2022030518173453273\":\"1\",\"2022030518173472715\":\"1\",\"2022030518173491679\":\"1\",\"2022030518173510042\":\"1\",\"2022030518173529188\":\"1\",\"2022030518173548199\":\"1\",\"2022030518173566981\":\"1\",\"2022030518173586934\":\"1\",\"2022030518173605723\":\"1\",\"2022030518173625399\":\"1\",\"2022030518173644258\":\"1\",\"2022030518173661955\":\"1\",\"2022030518173679878\":\"1\",\"2022030518173699469\":\"1\",\"2022030518173718381\":\"1\",\"2022030518173737117\":\"1\",\"2022030518173757624\":\"1\",\"2022030518173777216\":\"1\",\"2022030518173796686\":\"1\",\"2022030518173815799\":\"1\",\"2022030518173874278\":\"1\",\"2022030518173892875\":\"1\",\"2022030518173911378\":\"1\",\"2022030518173930803\":\"1\",\"2022030518173949329\":\"1\",\"2022030518173969725\":\"1\",\"2022030518173989540\":\"1\",\"2022030518174009543\":\"1\",\"2022030518174027786\":\"1\",\"2022030518174046287\":\"1\",\"2022030518174066652\":\"1\",\"2022030518174086603\":\"1\",\"2022030518174106487\":\"2\",\"2022030518174126133\":\"2\",\"2022030518174145059\":\"2\",\"2022030518174164365\":\"2\",\"2022030518174183338\":\"2\",\"2022030518174202221\":\"2\",\"2022030518174221543\":\"2\",\"2022030518174240865\":\"2\",\"2022030518174259076\":\"2\",\"2022030518174278936\":\"2\",\"2022030518174298128\":\"2\",\"2022030518174316791\":\"1\",\"2022030518174335338\":\"1\",\"2022030518174355163\":\"1\",\"2022030518174374420\":\"1\",\"2022030518174393653\":\"1\",\"2022030518174412618\":\"1\",\"2022030518174431514\":\"1\",\"2022030518174451242\":\"1\",\"2022030518174509177\":\"1\"}}'}\n"
     ]
    }
   ],
   "source": [
    "from mongo_command import Mongo_Command\n",
    "from bson.objectid import ObjectId\n",
    "\n",
    "import pandas as pd\n",
    "import numpy as np\n",
    "import pymongo\n",
    "from pymongo import MongoClient\n",
    "import pprint\n",
    "\n",
    "mng = Mongo_Command()\n",
    "post_id = \"622465f21e38db5a365af782\"\n",
    "\n",
    "# pprint.pprint(mng.collection.find_one())\n",
    "pprint.pprint(mng.collection.find_one({\"_id\":ObjectId(post_id)}))"
   ]
  },
  {
   "cell_type": "markdown",
   "metadata": {},
   "source": [
    "# Pandas Numpyを思い出す"
   ]
  },
  {
   "cell_type": "code",
   "execution_count": 43,
   "metadata": {},
   "outputs": [],
   "source": [
    "import pandas as pd\n",
    "import numpy as np"
   ]
  },
  {
   "cell_type": "code",
   "execution_count": 50,
   "metadata": {},
   "outputs": [],
   "source": [
    "column1 = ['special', 'special', 'special', 'special']"
   ]
  },
  {
   "cell_type": "code",
   "execution_count": 51,
   "metadata": {},
   "outputs": [],
   "source": [
    "timekey = ['2022030518131893093', '2022030518131912312', '2022030518131931865', '2022030518131952471']"
   ]
  },
  {
   "cell_type": "code",
   "execution_count": 52,
   "metadata": {},
   "outputs": [
    {
     "name": "stdout",
     "output_type": "stream",
     "text": [
      "[1, 1, 1, 1]\n"
     ]
    }
   ],
   "source": [
    "value1 = ['1', '1', '1', '1']\n",
    "value1_int = [int(i) for i in value1] \n",
    "print(value1_int)"
   ]
  },
  {
   "cell_type": "code",
   "execution_count": 57,
   "metadata": {},
   "outputs": [],
   "source": [
    "columns_list = [\"special\",\"special_value\"]"
   ]
  },
  {
   "cell_type": "code",
   "execution_count": 62,
   "metadata": {},
   "outputs": [
    {
     "name": "stdout",
     "output_type": "stream",
     "text": [
      "['special', 'special', 'special', 'special']\n",
      "['1', '1', '1', '1']\n",
      "['special', 'special_value']\n",
      "['2022030518131893093', '2022030518131912312', '2022030518131931865', '2022030518131952471']\n"
     ]
    }
   ],
   "source": [
    "print(column1)\n",
    "print(value1)\n",
    "print(columns_list)\n",
    "print(timekey)"
   ]
  },
  {
   "cell_type": "code",
   "execution_count": 67,
   "metadata": {},
   "outputs": [
    {
     "name": "stdout",
     "output_type": "stream",
     "text": [
      "   special\n",
      "0  special\n",
      "1  special\n",
      "2  special\n",
      "3  special\n"
     ]
    }
   ],
   "source": [
    "df = pd.DataFrame(data=['special', 'special', 'special', 'special'],\n",
    "                  columns=[\"special\"])\n",
    "print(df)"
   ]
  },
  {
   "cell_type": "code",
   "execution_count": 68,
   "metadata": {},
   "outputs": [
    {
     "name": "stdout",
     "output_type": "stream",
     "text": [
      "   special\n",
      "0  special\n",
      "1  special\n",
      "2  special\n",
      "3  special\n"
     ]
    }
   ],
   "source": [
    "df2 = pd.DataFrame(data=column1,\n",
    "                  columns=[\"special\"])\n",
    "print(df2)"
   ]
  },
  {
   "cell_type": "code",
   "execution_count": 82,
   "metadata": {},
   "outputs": [
    {
     "name": "stdout",
     "output_type": "stream",
     "text": [
      "                     special special_value\n",
      "2022030518131893093  special             1\n",
      "2022030518131912312  special             1\n",
      "2022030518131931865  special             1\n",
      "2022030518131952471  special             1\n"
     ]
    }
   ],
   "source": [
    "value_list = zip(column1,value1)\n",
    "df3 = pd.DataFrame(data=value_list,\n",
    "                  columns=columns_list,\n",
    "                  index=timekey)\n",
    "print(df3)"
   ]
  },
  {
   "cell_type": "code",
   "execution_count": null,
   "metadata": {},
   "outputs": [],
   "source": []
  }
 ],
 "metadata": {
  "interpreter": {
   "hash": "212495c762b80a805453a08823b154515b74fb19e21885facfb34a182b9a7b1c"
  },
  "kernelspec": {
   "display_name": "Python 3.9.5 64-bit ('.venv': pipenv)",
   "language": "python",
   "name": "python3"
  },
  "language_info": {
   "codemirror_mode": {
    "name": "ipython",
    "version": 3
   },
   "file_extension": ".py",
   "mimetype": "text/x-python",
   "name": "python",
   "nbconvert_exporter": "python",
   "pygments_lexer": "ipython3",
   "version": "3.9.5"
  },
  "orig_nbformat": 4
 },
 "nbformat": 4,
 "nbformat_minor": 2
}
